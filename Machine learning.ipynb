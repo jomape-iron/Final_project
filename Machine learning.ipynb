{
 "cells": [
  {
   "cell_type": "code",
   "execution_count": 1,
   "id": "c2ce6e4b",
   "metadata": {},
   "outputs": [],
   "source": [
    "import pandas as pd\n",
    "import seaborn as sns\n",
    "import matplotlib.pyplot as plt\n",
    "import numpy as np\n",
    "from sklearn.cluster import KMeans\n",
    "import plotly.graph_objects as go\n",
    "from sklearn.metrics import silhouette_score\n",
    "from sklearn.metrics import davies_bouldin_score\n",
    "import plotly.graph_objects as go\n",
    "from sklearn.cluster import KMeans\n",
    "from sklearn.metrics import silhouette_score\n",
    "from sklearn.datasets import make_blobs\n",
    "from sklearn.cluster import KMeans\n",
    "import matplotlib.pyplot as plt\n",
    "from sklearn.manifold import TSNE\n",
    "from sklearn.cluster import KMeans\n",
    "import warnings"
   ]
  },
  {
   "cell_type": "code",
   "execution_count": 2,
   "id": "6c72b87a",
   "metadata": {},
   "outputs": [],
   "source": [
    "df_machine = pd.read_pickle('df_machine.pkl')"
   ]
  },
  {
   "cell_type": "code",
   "execution_count": 44,
   "id": "af326853",
   "metadata": {},
   "outputs": [],
   "source": [
    "def elbow_method(df):\n",
    "    \"\"\"\n",
    "    This function calculate the sum of squared distances for each k value and plots graph\n",
    "    :arg:\n",
    "        df: dataframe with all the data.\n",
    "    :returns:\n",
    "        The function does not have a return. It saves the plot inside the plots folder.\n",
    "    \"\"\"\n",
    "    k_values = list(range(2, 19))\n",
    "    sse = []\n",
    "\n",
    "    for k in k_values:\n",
    "        kmeans = KMeans(n_clusters=k)\n",
    "        kmeans.fit(df)\n",
    "        sse.append(kmeans.inertia_)\n",
    "        \n",
    "        #Create the line chart\n",
    "    fig = go.Figure(data=go.Scatter(x=list(k_values), y=sse, mode='lines+markers'))\n",
    "    fig.update_layout(\n",
    "        title='Elbow Method',\n",
    "        xaxis=dict(title='Number of Clusters (k)'),\n",
    "        yaxis=dict(title='Sum of Squared Distances'),\n",
    "        showlegend=False,\n",
    "        template='plotly_white'\n",
    "    )\n",
    "    \n",
    "    fig.show()"
   ]
  },
  {
   "cell_type": "code",
   "execution_count": 42,
   "id": "985477ac",
   "metadata": {},
   "outputs": [],
   "source": [
    "from sklearn.cluster import KMeans\n",
    "import matplotlib.pyplot as plt\n",
    "\n",
    "def elbow_method(df):\n",
    "    # Perform K-Means clustering with different values of k\n",
    "    k_values = range(1, 11)\n",
    "    inertias = []\n",
    "    \n",
    "    for k in k_values:\n",
    "        km = KMeans(n_clusters=k, n_init=10)  # Set n_init explicitly to avoid warning\n",
    "        km.fit(df)\n",
    "        inertias.append(km.inertia_)\n",
    "    \n",
    "    # Plotting the elbow curve\n",
    "    plt.plot(k_values, inertias, marker='o')\n",
    "    plt.xlabel('Number of clusters (k)')\n",
    "    plt.ylabel('Inertia')\n",
    "    plt.title('Elbow Method')\n",
    "    plt.show()"
   ]
  },
  {
   "cell_type": "code",
   "execution_count": 5,
   "id": "89b05093",
   "metadata": {},
   "outputs": [],
   "source": [
    "def silhouette_plot(df):\n",
    "    \"\"\"\n",
    "    Generate an interactive line chart of Silhouette Coefficient vs. Number of Clusters using Plotly.\n",
    "\n",
    "    :Args:\n",
    "    df: (pandas DataFrame): The input data.\n",
    "    \"\"\"\n",
    "    k_values = list(range(2, 19))\n",
    "    silhouette_scores = []\n",
    "\n",
    "    for k in k_values:\n",
    "        # Perform clustering with K clusters\n",
    "        kmeans = KMeans(n_clusters=k)\n",
    "        cluster_labels = kmeans.fit_predict(df)\n",
    "\n",
    "        # Calculate the Silhouette Coefficient for the clustering result\n",
    "        silhouette_coefficient = silhouette_score(df, cluster_labels)\n",
    "        silhouette_scores.append(silhouette_coefficient)\n",
    "\n",
    "    # Create the line chart\n",
    "    fig = go.Figure(data=go.Scatter(x=k_values, y=silhouette_scores, mode='lines+markers'))\n",
    "    fig.update_layout(\n",
    "        title='Silhouette Coefficient vs. Number of Clusters',\n",
    "        xaxis=dict(title='Number of Clusters (k)'),\n",
    "        yaxis=dict(title='Silhouette Coefficient'),\n",
    "        showlegend=False,\n",
    "        template='plotly_white'\n",
    "    )\n",
    "\n",
    "    # Display the chart\n",
    "    fig.show()"
   ]
  },
  {
   "cell_type": "code",
   "execution_count": 46,
   "id": "6e966026",
   "metadata": {
    "scrolled": true
   },
   "outputs": [
    {
     "data": {
      "application/vnd.plotly.v1+json": {
       "config": {
        "plotlyServerURL": "https://plot.ly"
       },
       "data": [
        {
         "mode": "lines+markers",
         "type": "scatter",
         "x": [
          2,
          3,
          4,
          5,
          6,
          7,
          8,
          9,
          10,
          11,
          12,
          13,
          14,
          15,
          16,
          17,
          18
         ],
         "y": [
          458324.6536225804,
          235058.07956096853,
          169020.89987478688,
          138838.95071916137,
          119609.09268659077,
          103107.39026453518,
          90952.59930013625,
          81798.37604271735,
          76256.31899895433,
          72583.38339391985,
          68892.52114718113,
          66544.92353155054,
          62763.88410585478,
          59656.67402553723,
          58327.03767580786,
          56327.60037528608,
          53469.44437011651
         ]
        }
       ],
       "layout": {
        "showlegend": false,
        "template": {
         "data": {
          "bar": [
           {
            "error_x": {
             "color": "#2a3f5f"
            },
            "error_y": {
             "color": "#2a3f5f"
            },
            "marker": {
             "line": {
              "color": "white",
              "width": 0.5
             },
             "pattern": {
              "fillmode": "overlay",
              "size": 10,
              "solidity": 0.2
             }
            },
            "type": "bar"
           }
          ],
          "barpolar": [
           {
            "marker": {
             "line": {
              "color": "white",
              "width": 0.5
             },
             "pattern": {
              "fillmode": "overlay",
              "size": 10,
              "solidity": 0.2
             }
            },
            "type": "barpolar"
           }
          ],
          "carpet": [
           {
            "aaxis": {
             "endlinecolor": "#2a3f5f",
             "gridcolor": "#C8D4E3",
             "linecolor": "#C8D4E3",
             "minorgridcolor": "#C8D4E3",
             "startlinecolor": "#2a3f5f"
            },
            "baxis": {
             "endlinecolor": "#2a3f5f",
             "gridcolor": "#C8D4E3",
             "linecolor": "#C8D4E3",
             "minorgridcolor": "#C8D4E3",
             "startlinecolor": "#2a3f5f"
            },
            "type": "carpet"
           }
          ],
          "choropleth": [
           {
            "colorbar": {
             "outlinewidth": 0,
             "ticks": ""
            },
            "type": "choropleth"
           }
          ],
          "contour": [
           {
            "colorbar": {
             "outlinewidth": 0,
             "ticks": ""
            },
            "colorscale": [
             [
              0,
              "#0d0887"
             ],
             [
              0.1111111111111111,
              "#46039f"
             ],
             [
              0.2222222222222222,
              "#7201a8"
             ],
             [
              0.3333333333333333,
              "#9c179e"
             ],
             [
              0.4444444444444444,
              "#bd3786"
             ],
             [
              0.5555555555555556,
              "#d8576b"
             ],
             [
              0.6666666666666666,
              "#ed7953"
             ],
             [
              0.7777777777777778,
              "#fb9f3a"
             ],
             [
              0.8888888888888888,
              "#fdca26"
             ],
             [
              1,
              "#f0f921"
             ]
            ],
            "type": "contour"
           }
          ],
          "contourcarpet": [
           {
            "colorbar": {
             "outlinewidth": 0,
             "ticks": ""
            },
            "type": "contourcarpet"
           }
          ],
          "heatmap": [
           {
            "colorbar": {
             "outlinewidth": 0,
             "ticks": ""
            },
            "colorscale": [
             [
              0,
              "#0d0887"
             ],
             [
              0.1111111111111111,
              "#46039f"
             ],
             [
              0.2222222222222222,
              "#7201a8"
             ],
             [
              0.3333333333333333,
              "#9c179e"
             ],
             [
              0.4444444444444444,
              "#bd3786"
             ],
             [
              0.5555555555555556,
              "#d8576b"
             ],
             [
              0.6666666666666666,
              "#ed7953"
             ],
             [
              0.7777777777777778,
              "#fb9f3a"
             ],
             [
              0.8888888888888888,
              "#fdca26"
             ],
             [
              1,
              "#f0f921"
             ]
            ],
            "type": "heatmap"
           }
          ],
          "heatmapgl": [
           {
            "colorbar": {
             "outlinewidth": 0,
             "ticks": ""
            },
            "colorscale": [
             [
              0,
              "#0d0887"
             ],
             [
              0.1111111111111111,
              "#46039f"
             ],
             [
              0.2222222222222222,
              "#7201a8"
             ],
             [
              0.3333333333333333,
              "#9c179e"
             ],
             [
              0.4444444444444444,
              "#bd3786"
             ],
             [
              0.5555555555555556,
              "#d8576b"
             ],
             [
              0.6666666666666666,
              "#ed7953"
             ],
             [
              0.7777777777777778,
              "#fb9f3a"
             ],
             [
              0.8888888888888888,
              "#fdca26"
             ],
             [
              1,
              "#f0f921"
             ]
            ],
            "type": "heatmapgl"
           }
          ],
          "histogram": [
           {
            "marker": {
             "pattern": {
              "fillmode": "overlay",
              "size": 10,
              "solidity": 0.2
             }
            },
            "type": "histogram"
           }
          ],
          "histogram2d": [
           {
            "colorbar": {
             "outlinewidth": 0,
             "ticks": ""
            },
            "colorscale": [
             [
              0,
              "#0d0887"
             ],
             [
              0.1111111111111111,
              "#46039f"
             ],
             [
              0.2222222222222222,
              "#7201a8"
             ],
             [
              0.3333333333333333,
              "#9c179e"
             ],
             [
              0.4444444444444444,
              "#bd3786"
             ],
             [
              0.5555555555555556,
              "#d8576b"
             ],
             [
              0.6666666666666666,
              "#ed7953"
             ],
             [
              0.7777777777777778,
              "#fb9f3a"
             ],
             [
              0.8888888888888888,
              "#fdca26"
             ],
             [
              1,
              "#f0f921"
             ]
            ],
            "type": "histogram2d"
           }
          ],
          "histogram2dcontour": [
           {
            "colorbar": {
             "outlinewidth": 0,
             "ticks": ""
            },
            "colorscale": [
             [
              0,
              "#0d0887"
             ],
             [
              0.1111111111111111,
              "#46039f"
             ],
             [
              0.2222222222222222,
              "#7201a8"
             ],
             [
              0.3333333333333333,
              "#9c179e"
             ],
             [
              0.4444444444444444,
              "#bd3786"
             ],
             [
              0.5555555555555556,
              "#d8576b"
             ],
             [
              0.6666666666666666,
              "#ed7953"
             ],
             [
              0.7777777777777778,
              "#fb9f3a"
             ],
             [
              0.8888888888888888,
              "#fdca26"
             ],
             [
              1,
              "#f0f921"
             ]
            ],
            "type": "histogram2dcontour"
           }
          ],
          "mesh3d": [
           {
            "colorbar": {
             "outlinewidth": 0,
             "ticks": ""
            },
            "type": "mesh3d"
           }
          ],
          "parcoords": [
           {
            "line": {
             "colorbar": {
              "outlinewidth": 0,
              "ticks": ""
             }
            },
            "type": "parcoords"
           }
          ],
          "pie": [
           {
            "automargin": true,
            "type": "pie"
           }
          ],
          "scatter": [
           {
            "fillpattern": {
             "fillmode": "overlay",
             "size": 10,
             "solidity": 0.2
            },
            "type": "scatter"
           }
          ],
          "scatter3d": [
           {
            "line": {
             "colorbar": {
              "outlinewidth": 0,
              "ticks": ""
             }
            },
            "marker": {
             "colorbar": {
              "outlinewidth": 0,
              "ticks": ""
             }
            },
            "type": "scatter3d"
           }
          ],
          "scattercarpet": [
           {
            "marker": {
             "colorbar": {
              "outlinewidth": 0,
              "ticks": ""
             }
            },
            "type": "scattercarpet"
           }
          ],
          "scattergeo": [
           {
            "marker": {
             "colorbar": {
              "outlinewidth": 0,
              "ticks": ""
             }
            },
            "type": "scattergeo"
           }
          ],
          "scattergl": [
           {
            "marker": {
             "colorbar": {
              "outlinewidth": 0,
              "ticks": ""
             }
            },
            "type": "scattergl"
           }
          ],
          "scattermapbox": [
           {
            "marker": {
             "colorbar": {
              "outlinewidth": 0,
              "ticks": ""
             }
            },
            "type": "scattermapbox"
           }
          ],
          "scatterpolar": [
           {
            "marker": {
             "colorbar": {
              "outlinewidth": 0,
              "ticks": ""
             }
            },
            "type": "scatterpolar"
           }
          ],
          "scatterpolargl": [
           {
            "marker": {
             "colorbar": {
              "outlinewidth": 0,
              "ticks": ""
             }
            },
            "type": "scatterpolargl"
           }
          ],
          "scatterternary": [
           {
            "marker": {
             "colorbar": {
              "outlinewidth": 0,
              "ticks": ""
             }
            },
            "type": "scatterternary"
           }
          ],
          "surface": [
           {
            "colorbar": {
             "outlinewidth": 0,
             "ticks": ""
            },
            "colorscale": [
             [
              0,
              "#0d0887"
             ],
             [
              0.1111111111111111,
              "#46039f"
             ],
             [
              0.2222222222222222,
              "#7201a8"
             ],
             [
              0.3333333333333333,
              "#9c179e"
             ],
             [
              0.4444444444444444,
              "#bd3786"
             ],
             [
              0.5555555555555556,
              "#d8576b"
             ],
             [
              0.6666666666666666,
              "#ed7953"
             ],
             [
              0.7777777777777778,
              "#fb9f3a"
             ],
             [
              0.8888888888888888,
              "#fdca26"
             ],
             [
              1,
              "#f0f921"
             ]
            ],
            "type": "surface"
           }
          ],
          "table": [
           {
            "cells": {
             "fill": {
              "color": "#EBF0F8"
             },
             "line": {
              "color": "white"
             }
            },
            "header": {
             "fill": {
              "color": "#C8D4E3"
             },
             "line": {
              "color": "white"
             }
            },
            "type": "table"
           }
          ]
         },
         "layout": {
          "annotationdefaults": {
           "arrowcolor": "#2a3f5f",
           "arrowhead": 0,
           "arrowwidth": 1
          },
          "autotypenumbers": "strict",
          "coloraxis": {
           "colorbar": {
            "outlinewidth": 0,
            "ticks": ""
           }
          },
          "colorscale": {
           "diverging": [
            [
             0,
             "#8e0152"
            ],
            [
             0.1,
             "#c51b7d"
            ],
            [
             0.2,
             "#de77ae"
            ],
            [
             0.3,
             "#f1b6da"
            ],
            [
             0.4,
             "#fde0ef"
            ],
            [
             0.5,
             "#f7f7f7"
            ],
            [
             0.6,
             "#e6f5d0"
            ],
            [
             0.7,
             "#b8e186"
            ],
            [
             0.8,
             "#7fbc41"
            ],
            [
             0.9,
             "#4d9221"
            ],
            [
             1,
             "#276419"
            ]
           ],
           "sequential": [
            [
             0,
             "#0d0887"
            ],
            [
             0.1111111111111111,
             "#46039f"
            ],
            [
             0.2222222222222222,
             "#7201a8"
            ],
            [
             0.3333333333333333,
             "#9c179e"
            ],
            [
             0.4444444444444444,
             "#bd3786"
            ],
            [
             0.5555555555555556,
             "#d8576b"
            ],
            [
             0.6666666666666666,
             "#ed7953"
            ],
            [
             0.7777777777777778,
             "#fb9f3a"
            ],
            [
             0.8888888888888888,
             "#fdca26"
            ],
            [
             1,
             "#f0f921"
            ]
           ],
           "sequentialminus": [
            [
             0,
             "#0d0887"
            ],
            [
             0.1111111111111111,
             "#46039f"
            ],
            [
             0.2222222222222222,
             "#7201a8"
            ],
            [
             0.3333333333333333,
             "#9c179e"
            ],
            [
             0.4444444444444444,
             "#bd3786"
            ],
            [
             0.5555555555555556,
             "#d8576b"
            ],
            [
             0.6666666666666666,
             "#ed7953"
            ],
            [
             0.7777777777777778,
             "#fb9f3a"
            ],
            [
             0.8888888888888888,
             "#fdca26"
            ],
            [
             1,
             "#f0f921"
            ]
           ]
          },
          "colorway": [
           "#636efa",
           "#EF553B",
           "#00cc96",
           "#ab63fa",
           "#FFA15A",
           "#19d3f3",
           "#FF6692",
           "#B6E880",
           "#FF97FF",
           "#FECB52"
          ],
          "font": {
           "color": "#2a3f5f"
          },
          "geo": {
           "bgcolor": "white",
           "lakecolor": "white",
           "landcolor": "white",
           "showlakes": true,
           "showland": true,
           "subunitcolor": "#C8D4E3"
          },
          "hoverlabel": {
           "align": "left"
          },
          "hovermode": "closest",
          "mapbox": {
           "style": "light"
          },
          "paper_bgcolor": "white",
          "plot_bgcolor": "white",
          "polar": {
           "angularaxis": {
            "gridcolor": "#EBF0F8",
            "linecolor": "#EBF0F8",
            "ticks": ""
           },
           "bgcolor": "white",
           "radialaxis": {
            "gridcolor": "#EBF0F8",
            "linecolor": "#EBF0F8",
            "ticks": ""
           }
          },
          "scene": {
           "xaxis": {
            "backgroundcolor": "white",
            "gridcolor": "#DFE8F3",
            "gridwidth": 2,
            "linecolor": "#EBF0F8",
            "showbackground": true,
            "ticks": "",
            "zerolinecolor": "#EBF0F8"
           },
           "yaxis": {
            "backgroundcolor": "white",
            "gridcolor": "#DFE8F3",
            "gridwidth": 2,
            "linecolor": "#EBF0F8",
            "showbackground": true,
            "ticks": "",
            "zerolinecolor": "#EBF0F8"
           },
           "zaxis": {
            "backgroundcolor": "white",
            "gridcolor": "#DFE8F3",
            "gridwidth": 2,
            "linecolor": "#EBF0F8",
            "showbackground": true,
            "ticks": "",
            "zerolinecolor": "#EBF0F8"
           }
          },
          "shapedefaults": {
           "line": {
            "color": "#2a3f5f"
           }
          },
          "ternary": {
           "aaxis": {
            "gridcolor": "#DFE8F3",
            "linecolor": "#A2B1C6",
            "ticks": ""
           },
           "baxis": {
            "gridcolor": "#DFE8F3",
            "linecolor": "#A2B1C6",
            "ticks": ""
           },
           "bgcolor": "white",
           "caxis": {
            "gridcolor": "#DFE8F3",
            "linecolor": "#A2B1C6",
            "ticks": ""
           }
          },
          "title": {
           "x": 0.05
          },
          "xaxis": {
           "automargin": true,
           "gridcolor": "#EBF0F8",
           "linecolor": "#EBF0F8",
           "ticks": "",
           "title": {
            "standoff": 15
           },
           "zerolinecolor": "#EBF0F8",
           "zerolinewidth": 2
          },
          "yaxis": {
           "automargin": true,
           "gridcolor": "#EBF0F8",
           "linecolor": "#EBF0F8",
           "ticks": "",
           "title": {
            "standoff": 15
           },
           "zerolinecolor": "#EBF0F8",
           "zerolinewidth": 2
          }
         }
        },
        "title": {
         "text": "Elbow Method"
        },
        "xaxis": {
         "title": {
          "text": "Number of Clusters (k)"
         }
        },
        "yaxis": {
         "title": {
          "text": "Sum of Squared Distances"
         }
        }
       }
      },
      "text/html": [
       "<div>                            <div id=\"e374dcaa-23c6-4d4a-be3a-dd70283035fb\" class=\"plotly-graph-div\" style=\"height:525px; width:100%;\"></div>            <script type=\"text/javascript\">                require([\"plotly\"], function(Plotly) {                    window.PLOTLYENV=window.PLOTLYENV || {};                                    if (document.getElementById(\"e374dcaa-23c6-4d4a-be3a-dd70283035fb\")) {                    Plotly.newPlot(                        \"e374dcaa-23c6-4d4a-be3a-dd70283035fb\",                        [{\"mode\":\"lines+markers\",\"x\":[2,3,4,5,6,7,8,9,10,11,12,13,14,15,16,17,18],\"y\":[458324.6536225804,235058.07956096853,169020.89987478688,138838.95071916137,119609.09268659077,103107.39026453518,90952.59930013625,81798.37604271735,76256.31899895433,72583.38339391985,68892.52114718113,66544.92353155054,62763.88410585478,59656.67402553723,58327.03767580786,56327.60037528608,53469.44437011651],\"type\":\"scatter\"}],                        {\"template\":{\"data\":{\"barpolar\":[{\"marker\":{\"line\":{\"color\":\"white\",\"width\":0.5},\"pattern\":{\"fillmode\":\"overlay\",\"size\":10,\"solidity\":0.2}},\"type\":\"barpolar\"}],\"bar\":[{\"error_x\":{\"color\":\"#2a3f5f\"},\"error_y\":{\"color\":\"#2a3f5f\"},\"marker\":{\"line\":{\"color\":\"white\",\"width\":0.5},\"pattern\":{\"fillmode\":\"overlay\",\"size\":10,\"solidity\":0.2}},\"type\":\"bar\"}],\"carpet\":[{\"aaxis\":{\"endlinecolor\":\"#2a3f5f\",\"gridcolor\":\"#C8D4E3\",\"linecolor\":\"#C8D4E3\",\"minorgridcolor\":\"#C8D4E3\",\"startlinecolor\":\"#2a3f5f\"},\"baxis\":{\"endlinecolor\":\"#2a3f5f\",\"gridcolor\":\"#C8D4E3\",\"linecolor\":\"#C8D4E3\",\"minorgridcolor\":\"#C8D4E3\",\"startlinecolor\":\"#2a3f5f\"},\"type\":\"carpet\"}],\"choropleth\":[{\"colorbar\":{\"outlinewidth\":0,\"ticks\":\"\"},\"type\":\"choropleth\"}],\"contourcarpet\":[{\"colorbar\":{\"outlinewidth\":0,\"ticks\":\"\"},\"type\":\"contourcarpet\"}],\"contour\":[{\"colorbar\":{\"outlinewidth\":0,\"ticks\":\"\"},\"colorscale\":[[0.0,\"#0d0887\"],[0.1111111111111111,\"#46039f\"],[0.2222222222222222,\"#7201a8\"],[0.3333333333333333,\"#9c179e\"],[0.4444444444444444,\"#bd3786\"],[0.5555555555555556,\"#d8576b\"],[0.6666666666666666,\"#ed7953\"],[0.7777777777777778,\"#fb9f3a\"],[0.8888888888888888,\"#fdca26\"],[1.0,\"#f0f921\"]],\"type\":\"contour\"}],\"heatmapgl\":[{\"colorbar\":{\"outlinewidth\":0,\"ticks\":\"\"},\"colorscale\":[[0.0,\"#0d0887\"],[0.1111111111111111,\"#46039f\"],[0.2222222222222222,\"#7201a8\"],[0.3333333333333333,\"#9c179e\"],[0.4444444444444444,\"#bd3786\"],[0.5555555555555556,\"#d8576b\"],[0.6666666666666666,\"#ed7953\"],[0.7777777777777778,\"#fb9f3a\"],[0.8888888888888888,\"#fdca26\"],[1.0,\"#f0f921\"]],\"type\":\"heatmapgl\"}],\"heatmap\":[{\"colorbar\":{\"outlinewidth\":0,\"ticks\":\"\"},\"colorscale\":[[0.0,\"#0d0887\"],[0.1111111111111111,\"#46039f\"],[0.2222222222222222,\"#7201a8\"],[0.3333333333333333,\"#9c179e\"],[0.4444444444444444,\"#bd3786\"],[0.5555555555555556,\"#d8576b\"],[0.6666666666666666,\"#ed7953\"],[0.7777777777777778,\"#fb9f3a\"],[0.8888888888888888,\"#fdca26\"],[1.0,\"#f0f921\"]],\"type\":\"heatmap\"}],\"histogram2dcontour\":[{\"colorbar\":{\"outlinewidth\":0,\"ticks\":\"\"},\"colorscale\":[[0.0,\"#0d0887\"],[0.1111111111111111,\"#46039f\"],[0.2222222222222222,\"#7201a8\"],[0.3333333333333333,\"#9c179e\"],[0.4444444444444444,\"#bd3786\"],[0.5555555555555556,\"#d8576b\"],[0.6666666666666666,\"#ed7953\"],[0.7777777777777778,\"#fb9f3a\"],[0.8888888888888888,\"#fdca26\"],[1.0,\"#f0f921\"]],\"type\":\"histogram2dcontour\"}],\"histogram2d\":[{\"colorbar\":{\"outlinewidth\":0,\"ticks\":\"\"},\"colorscale\":[[0.0,\"#0d0887\"],[0.1111111111111111,\"#46039f\"],[0.2222222222222222,\"#7201a8\"],[0.3333333333333333,\"#9c179e\"],[0.4444444444444444,\"#bd3786\"],[0.5555555555555556,\"#d8576b\"],[0.6666666666666666,\"#ed7953\"],[0.7777777777777778,\"#fb9f3a\"],[0.8888888888888888,\"#fdca26\"],[1.0,\"#f0f921\"]],\"type\":\"histogram2d\"}],\"histogram\":[{\"marker\":{\"pattern\":{\"fillmode\":\"overlay\",\"size\":10,\"solidity\":0.2}},\"type\":\"histogram\"}],\"mesh3d\":[{\"colorbar\":{\"outlinewidth\":0,\"ticks\":\"\"},\"type\":\"mesh3d\"}],\"parcoords\":[{\"line\":{\"colorbar\":{\"outlinewidth\":0,\"ticks\":\"\"}},\"type\":\"parcoords\"}],\"pie\":[{\"automargin\":true,\"type\":\"pie\"}],\"scatter3d\":[{\"line\":{\"colorbar\":{\"outlinewidth\":0,\"ticks\":\"\"}},\"marker\":{\"colorbar\":{\"outlinewidth\":0,\"ticks\":\"\"}},\"type\":\"scatter3d\"}],\"scattercarpet\":[{\"marker\":{\"colorbar\":{\"outlinewidth\":0,\"ticks\":\"\"}},\"type\":\"scattercarpet\"}],\"scattergeo\":[{\"marker\":{\"colorbar\":{\"outlinewidth\":0,\"ticks\":\"\"}},\"type\":\"scattergeo\"}],\"scattergl\":[{\"marker\":{\"colorbar\":{\"outlinewidth\":0,\"ticks\":\"\"}},\"type\":\"scattergl\"}],\"scattermapbox\":[{\"marker\":{\"colorbar\":{\"outlinewidth\":0,\"ticks\":\"\"}},\"type\":\"scattermapbox\"}],\"scatterpolargl\":[{\"marker\":{\"colorbar\":{\"outlinewidth\":0,\"ticks\":\"\"}},\"type\":\"scatterpolargl\"}],\"scatterpolar\":[{\"marker\":{\"colorbar\":{\"outlinewidth\":0,\"ticks\":\"\"}},\"type\":\"scatterpolar\"}],\"scatter\":[{\"fillpattern\":{\"fillmode\":\"overlay\",\"size\":10,\"solidity\":0.2},\"type\":\"scatter\"}],\"scatterternary\":[{\"marker\":{\"colorbar\":{\"outlinewidth\":0,\"ticks\":\"\"}},\"type\":\"scatterternary\"}],\"surface\":[{\"colorbar\":{\"outlinewidth\":0,\"ticks\":\"\"},\"colorscale\":[[0.0,\"#0d0887\"],[0.1111111111111111,\"#46039f\"],[0.2222222222222222,\"#7201a8\"],[0.3333333333333333,\"#9c179e\"],[0.4444444444444444,\"#bd3786\"],[0.5555555555555556,\"#d8576b\"],[0.6666666666666666,\"#ed7953\"],[0.7777777777777778,\"#fb9f3a\"],[0.8888888888888888,\"#fdca26\"],[1.0,\"#f0f921\"]],\"type\":\"surface\"}],\"table\":[{\"cells\":{\"fill\":{\"color\":\"#EBF0F8\"},\"line\":{\"color\":\"white\"}},\"header\":{\"fill\":{\"color\":\"#C8D4E3\"},\"line\":{\"color\":\"white\"}},\"type\":\"table\"}]},\"layout\":{\"annotationdefaults\":{\"arrowcolor\":\"#2a3f5f\",\"arrowhead\":0,\"arrowwidth\":1},\"autotypenumbers\":\"strict\",\"coloraxis\":{\"colorbar\":{\"outlinewidth\":0,\"ticks\":\"\"}},\"colorscale\":{\"diverging\":[[0,\"#8e0152\"],[0.1,\"#c51b7d\"],[0.2,\"#de77ae\"],[0.3,\"#f1b6da\"],[0.4,\"#fde0ef\"],[0.5,\"#f7f7f7\"],[0.6,\"#e6f5d0\"],[0.7,\"#b8e186\"],[0.8,\"#7fbc41\"],[0.9,\"#4d9221\"],[1,\"#276419\"]],\"sequential\":[[0.0,\"#0d0887\"],[0.1111111111111111,\"#46039f\"],[0.2222222222222222,\"#7201a8\"],[0.3333333333333333,\"#9c179e\"],[0.4444444444444444,\"#bd3786\"],[0.5555555555555556,\"#d8576b\"],[0.6666666666666666,\"#ed7953\"],[0.7777777777777778,\"#fb9f3a\"],[0.8888888888888888,\"#fdca26\"],[1.0,\"#f0f921\"]],\"sequentialminus\":[[0.0,\"#0d0887\"],[0.1111111111111111,\"#46039f\"],[0.2222222222222222,\"#7201a8\"],[0.3333333333333333,\"#9c179e\"],[0.4444444444444444,\"#bd3786\"],[0.5555555555555556,\"#d8576b\"],[0.6666666666666666,\"#ed7953\"],[0.7777777777777778,\"#fb9f3a\"],[0.8888888888888888,\"#fdca26\"],[1.0,\"#f0f921\"]]},\"colorway\":[\"#636efa\",\"#EF553B\",\"#00cc96\",\"#ab63fa\",\"#FFA15A\",\"#19d3f3\",\"#FF6692\",\"#B6E880\",\"#FF97FF\",\"#FECB52\"],\"font\":{\"color\":\"#2a3f5f\"},\"geo\":{\"bgcolor\":\"white\",\"lakecolor\":\"white\",\"landcolor\":\"white\",\"showlakes\":true,\"showland\":true,\"subunitcolor\":\"#C8D4E3\"},\"hoverlabel\":{\"align\":\"left\"},\"hovermode\":\"closest\",\"mapbox\":{\"style\":\"light\"},\"paper_bgcolor\":\"white\",\"plot_bgcolor\":\"white\",\"polar\":{\"angularaxis\":{\"gridcolor\":\"#EBF0F8\",\"linecolor\":\"#EBF0F8\",\"ticks\":\"\"},\"bgcolor\":\"white\",\"radialaxis\":{\"gridcolor\":\"#EBF0F8\",\"linecolor\":\"#EBF0F8\",\"ticks\":\"\"}},\"scene\":{\"xaxis\":{\"backgroundcolor\":\"white\",\"gridcolor\":\"#DFE8F3\",\"gridwidth\":2,\"linecolor\":\"#EBF0F8\",\"showbackground\":true,\"ticks\":\"\",\"zerolinecolor\":\"#EBF0F8\"},\"yaxis\":{\"backgroundcolor\":\"white\",\"gridcolor\":\"#DFE8F3\",\"gridwidth\":2,\"linecolor\":\"#EBF0F8\",\"showbackground\":true,\"ticks\":\"\",\"zerolinecolor\":\"#EBF0F8\"},\"zaxis\":{\"backgroundcolor\":\"white\",\"gridcolor\":\"#DFE8F3\",\"gridwidth\":2,\"linecolor\":\"#EBF0F8\",\"showbackground\":true,\"ticks\":\"\",\"zerolinecolor\":\"#EBF0F8\"}},\"shapedefaults\":{\"line\":{\"color\":\"#2a3f5f\"}},\"ternary\":{\"aaxis\":{\"gridcolor\":\"#DFE8F3\",\"linecolor\":\"#A2B1C6\",\"ticks\":\"\"},\"baxis\":{\"gridcolor\":\"#DFE8F3\",\"linecolor\":\"#A2B1C6\",\"ticks\":\"\"},\"bgcolor\":\"white\",\"caxis\":{\"gridcolor\":\"#DFE8F3\",\"linecolor\":\"#A2B1C6\",\"ticks\":\"\"}},\"title\":{\"x\":0.05},\"xaxis\":{\"automargin\":true,\"gridcolor\":\"#EBF0F8\",\"linecolor\":\"#EBF0F8\",\"ticks\":\"\",\"title\":{\"standoff\":15},\"zerolinecolor\":\"#EBF0F8\",\"zerolinewidth\":2},\"yaxis\":{\"automargin\":true,\"gridcolor\":\"#EBF0F8\",\"linecolor\":\"#EBF0F8\",\"ticks\":\"\",\"title\":{\"standoff\":15},\"zerolinecolor\":\"#EBF0F8\",\"zerolinewidth\":2}}},\"title\":{\"text\":\"Elbow Method\"},\"xaxis\":{\"title\":{\"text\":\"Number of Clusters (k)\"}},\"yaxis\":{\"title\":{\"text\":\"Sum of Squared Distances\"}},\"showlegend\":false},                        {\"responsive\": true}                    ).then(function(){\n",
       "                            \n",
       "var gd = document.getElementById('e374dcaa-23c6-4d4a-be3a-dd70283035fb');\n",
       "var x = new MutationObserver(function (mutations, observer) {{\n",
       "        var display = window.getComputedStyle(gd).display;\n",
       "        if (!display || display === 'none') {{\n",
       "            console.log([gd, 'removed!']);\n",
       "            Plotly.purge(gd);\n",
       "            observer.disconnect();\n",
       "        }}\n",
       "}});\n",
       "\n",
       "// Listen for the removal of the full notebook cells\n",
       "var notebookContainer = gd.closest('#notebook-container');\n",
       "if (notebookContainer) {{\n",
       "    x.observe(notebookContainer, {childList: true});\n",
       "}}\n",
       "\n",
       "// Listen for the clearing of the current output cell\n",
       "var outputEl = gd.closest('.output');\n",
       "if (outputEl) {{\n",
       "    x.observe(outputEl, {childList: true});\n",
       "}}\n",
       "\n",
       "                        })                };                });            </script>        </div>"
      ]
     },
     "metadata": {},
     "output_type": "display_data"
    }
   ],
   "source": [
    "elbow_method(df_machine)"
   ]
  },
  {
   "cell_type": "code",
   "execution_count": 6,
   "id": "3d3a5de8",
   "metadata": {
    "scrolled": false
   },
   "outputs": [
    {
     "data": {
      "application/vnd.plotly.v1+json": {
       "config": {
        "plotlyServerURL": "https://plot.ly"
       },
       "data": [
        {
         "mode": "lines+markers",
         "type": "scatter",
         "x": [
          2,
          3,
          4,
          5,
          6,
          7,
          8,
          9,
          10,
          11,
          12,
          13,
          14,
          15,
          16,
          17,
          18
         ],
         "y": [
          0.5088482402587906,
          0.5743437026890781,
          0.580725679279504,
          0.5110470475689105,
          0.4855888176870409,
          0.3914982930024591,
          0.3958459351838197,
          0.3861406259726247,
          0.38608066731506197,
          0.36840358140463203,
          0.3687399945256562,
          0.37004953626545645,
          0.3795288650230182,
          0.3670961037513019,
          0.36470342029624786,
          0.3666080106478673,
          0.28498028251497065
         ]
        }
       ],
       "layout": {
        "showlegend": false,
        "template": {
         "data": {
          "bar": [
           {
            "error_x": {
             "color": "#2a3f5f"
            },
            "error_y": {
             "color": "#2a3f5f"
            },
            "marker": {
             "line": {
              "color": "white",
              "width": 0.5
             },
             "pattern": {
              "fillmode": "overlay",
              "size": 10,
              "solidity": 0.2
             }
            },
            "type": "bar"
           }
          ],
          "barpolar": [
           {
            "marker": {
             "line": {
              "color": "white",
              "width": 0.5
             },
             "pattern": {
              "fillmode": "overlay",
              "size": 10,
              "solidity": 0.2
             }
            },
            "type": "barpolar"
           }
          ],
          "carpet": [
           {
            "aaxis": {
             "endlinecolor": "#2a3f5f",
             "gridcolor": "#C8D4E3",
             "linecolor": "#C8D4E3",
             "minorgridcolor": "#C8D4E3",
             "startlinecolor": "#2a3f5f"
            },
            "baxis": {
             "endlinecolor": "#2a3f5f",
             "gridcolor": "#C8D4E3",
             "linecolor": "#C8D4E3",
             "minorgridcolor": "#C8D4E3",
             "startlinecolor": "#2a3f5f"
            },
            "type": "carpet"
           }
          ],
          "choropleth": [
           {
            "colorbar": {
             "outlinewidth": 0,
             "ticks": ""
            },
            "type": "choropleth"
           }
          ],
          "contour": [
           {
            "colorbar": {
             "outlinewidth": 0,
             "ticks": ""
            },
            "colorscale": [
             [
              0,
              "#0d0887"
             ],
             [
              0.1111111111111111,
              "#46039f"
             ],
             [
              0.2222222222222222,
              "#7201a8"
             ],
             [
              0.3333333333333333,
              "#9c179e"
             ],
             [
              0.4444444444444444,
              "#bd3786"
             ],
             [
              0.5555555555555556,
              "#d8576b"
             ],
             [
              0.6666666666666666,
              "#ed7953"
             ],
             [
              0.7777777777777778,
              "#fb9f3a"
             ],
             [
              0.8888888888888888,
              "#fdca26"
             ],
             [
              1,
              "#f0f921"
             ]
            ],
            "type": "contour"
           }
          ],
          "contourcarpet": [
           {
            "colorbar": {
             "outlinewidth": 0,
             "ticks": ""
            },
            "type": "contourcarpet"
           }
          ],
          "heatmap": [
           {
            "colorbar": {
             "outlinewidth": 0,
             "ticks": ""
            },
            "colorscale": [
             [
              0,
              "#0d0887"
             ],
             [
              0.1111111111111111,
              "#46039f"
             ],
             [
              0.2222222222222222,
              "#7201a8"
             ],
             [
              0.3333333333333333,
              "#9c179e"
             ],
             [
              0.4444444444444444,
              "#bd3786"
             ],
             [
              0.5555555555555556,
              "#d8576b"
             ],
             [
              0.6666666666666666,
              "#ed7953"
             ],
             [
              0.7777777777777778,
              "#fb9f3a"
             ],
             [
              0.8888888888888888,
              "#fdca26"
             ],
             [
              1,
              "#f0f921"
             ]
            ],
            "type": "heatmap"
           }
          ],
          "heatmapgl": [
           {
            "colorbar": {
             "outlinewidth": 0,
             "ticks": ""
            },
            "colorscale": [
             [
              0,
              "#0d0887"
             ],
             [
              0.1111111111111111,
              "#46039f"
             ],
             [
              0.2222222222222222,
              "#7201a8"
             ],
             [
              0.3333333333333333,
              "#9c179e"
             ],
             [
              0.4444444444444444,
              "#bd3786"
             ],
             [
              0.5555555555555556,
              "#d8576b"
             ],
             [
              0.6666666666666666,
              "#ed7953"
             ],
             [
              0.7777777777777778,
              "#fb9f3a"
             ],
             [
              0.8888888888888888,
              "#fdca26"
             ],
             [
              1,
              "#f0f921"
             ]
            ],
            "type": "heatmapgl"
           }
          ],
          "histogram": [
           {
            "marker": {
             "pattern": {
              "fillmode": "overlay",
              "size": 10,
              "solidity": 0.2
             }
            },
            "type": "histogram"
           }
          ],
          "histogram2d": [
           {
            "colorbar": {
             "outlinewidth": 0,
             "ticks": ""
            },
            "colorscale": [
             [
              0,
              "#0d0887"
             ],
             [
              0.1111111111111111,
              "#46039f"
             ],
             [
              0.2222222222222222,
              "#7201a8"
             ],
             [
              0.3333333333333333,
              "#9c179e"
             ],
             [
              0.4444444444444444,
              "#bd3786"
             ],
             [
              0.5555555555555556,
              "#d8576b"
             ],
             [
              0.6666666666666666,
              "#ed7953"
             ],
             [
              0.7777777777777778,
              "#fb9f3a"
             ],
             [
              0.8888888888888888,
              "#fdca26"
             ],
             [
              1,
              "#f0f921"
             ]
            ],
            "type": "histogram2d"
           }
          ],
          "histogram2dcontour": [
           {
            "colorbar": {
             "outlinewidth": 0,
             "ticks": ""
            },
            "colorscale": [
             [
              0,
              "#0d0887"
             ],
             [
              0.1111111111111111,
              "#46039f"
             ],
             [
              0.2222222222222222,
              "#7201a8"
             ],
             [
              0.3333333333333333,
              "#9c179e"
             ],
             [
              0.4444444444444444,
              "#bd3786"
             ],
             [
              0.5555555555555556,
              "#d8576b"
             ],
             [
              0.6666666666666666,
              "#ed7953"
             ],
             [
              0.7777777777777778,
              "#fb9f3a"
             ],
             [
              0.8888888888888888,
              "#fdca26"
             ],
             [
              1,
              "#f0f921"
             ]
            ],
            "type": "histogram2dcontour"
           }
          ],
          "mesh3d": [
           {
            "colorbar": {
             "outlinewidth": 0,
             "ticks": ""
            },
            "type": "mesh3d"
           }
          ],
          "parcoords": [
           {
            "line": {
             "colorbar": {
              "outlinewidth": 0,
              "ticks": ""
             }
            },
            "type": "parcoords"
           }
          ],
          "pie": [
           {
            "automargin": true,
            "type": "pie"
           }
          ],
          "scatter": [
           {
            "fillpattern": {
             "fillmode": "overlay",
             "size": 10,
             "solidity": 0.2
            },
            "type": "scatter"
           }
          ],
          "scatter3d": [
           {
            "line": {
             "colorbar": {
              "outlinewidth": 0,
              "ticks": ""
             }
            },
            "marker": {
             "colorbar": {
              "outlinewidth": 0,
              "ticks": ""
             }
            },
            "type": "scatter3d"
           }
          ],
          "scattercarpet": [
           {
            "marker": {
             "colorbar": {
              "outlinewidth": 0,
              "ticks": ""
             }
            },
            "type": "scattercarpet"
           }
          ],
          "scattergeo": [
           {
            "marker": {
             "colorbar": {
              "outlinewidth": 0,
              "ticks": ""
             }
            },
            "type": "scattergeo"
           }
          ],
          "scattergl": [
           {
            "marker": {
             "colorbar": {
              "outlinewidth": 0,
              "ticks": ""
             }
            },
            "type": "scattergl"
           }
          ],
          "scattermapbox": [
           {
            "marker": {
             "colorbar": {
              "outlinewidth": 0,
              "ticks": ""
             }
            },
            "type": "scattermapbox"
           }
          ],
          "scatterpolar": [
           {
            "marker": {
             "colorbar": {
              "outlinewidth": 0,
              "ticks": ""
             }
            },
            "type": "scatterpolar"
           }
          ],
          "scatterpolargl": [
           {
            "marker": {
             "colorbar": {
              "outlinewidth": 0,
              "ticks": ""
             }
            },
            "type": "scatterpolargl"
           }
          ],
          "scatterternary": [
           {
            "marker": {
             "colorbar": {
              "outlinewidth": 0,
              "ticks": ""
             }
            },
            "type": "scatterternary"
           }
          ],
          "surface": [
           {
            "colorbar": {
             "outlinewidth": 0,
             "ticks": ""
            },
            "colorscale": [
             [
              0,
              "#0d0887"
             ],
             [
              0.1111111111111111,
              "#46039f"
             ],
             [
              0.2222222222222222,
              "#7201a8"
             ],
             [
              0.3333333333333333,
              "#9c179e"
             ],
             [
              0.4444444444444444,
              "#bd3786"
             ],
             [
              0.5555555555555556,
              "#d8576b"
             ],
             [
              0.6666666666666666,
              "#ed7953"
             ],
             [
              0.7777777777777778,
              "#fb9f3a"
             ],
             [
              0.8888888888888888,
              "#fdca26"
             ],
             [
              1,
              "#f0f921"
             ]
            ],
            "type": "surface"
           }
          ],
          "table": [
           {
            "cells": {
             "fill": {
              "color": "#EBF0F8"
             },
             "line": {
              "color": "white"
             }
            },
            "header": {
             "fill": {
              "color": "#C8D4E3"
             },
             "line": {
              "color": "white"
             }
            },
            "type": "table"
           }
          ]
         },
         "layout": {
          "annotationdefaults": {
           "arrowcolor": "#2a3f5f",
           "arrowhead": 0,
           "arrowwidth": 1
          },
          "autotypenumbers": "strict",
          "coloraxis": {
           "colorbar": {
            "outlinewidth": 0,
            "ticks": ""
           }
          },
          "colorscale": {
           "diverging": [
            [
             0,
             "#8e0152"
            ],
            [
             0.1,
             "#c51b7d"
            ],
            [
             0.2,
             "#de77ae"
            ],
            [
             0.3,
             "#f1b6da"
            ],
            [
             0.4,
             "#fde0ef"
            ],
            [
             0.5,
             "#f7f7f7"
            ],
            [
             0.6,
             "#e6f5d0"
            ],
            [
             0.7,
             "#b8e186"
            ],
            [
             0.8,
             "#7fbc41"
            ],
            [
             0.9,
             "#4d9221"
            ],
            [
             1,
             "#276419"
            ]
           ],
           "sequential": [
            [
             0,
             "#0d0887"
            ],
            [
             0.1111111111111111,
             "#46039f"
            ],
            [
             0.2222222222222222,
             "#7201a8"
            ],
            [
             0.3333333333333333,
             "#9c179e"
            ],
            [
             0.4444444444444444,
             "#bd3786"
            ],
            [
             0.5555555555555556,
             "#d8576b"
            ],
            [
             0.6666666666666666,
             "#ed7953"
            ],
            [
             0.7777777777777778,
             "#fb9f3a"
            ],
            [
             0.8888888888888888,
             "#fdca26"
            ],
            [
             1,
             "#f0f921"
            ]
           ],
           "sequentialminus": [
            [
             0,
             "#0d0887"
            ],
            [
             0.1111111111111111,
             "#46039f"
            ],
            [
             0.2222222222222222,
             "#7201a8"
            ],
            [
             0.3333333333333333,
             "#9c179e"
            ],
            [
             0.4444444444444444,
             "#bd3786"
            ],
            [
             0.5555555555555556,
             "#d8576b"
            ],
            [
             0.6666666666666666,
             "#ed7953"
            ],
            [
             0.7777777777777778,
             "#fb9f3a"
            ],
            [
             0.8888888888888888,
             "#fdca26"
            ],
            [
             1,
             "#f0f921"
            ]
           ]
          },
          "colorway": [
           "#636efa",
           "#EF553B",
           "#00cc96",
           "#ab63fa",
           "#FFA15A",
           "#19d3f3",
           "#FF6692",
           "#B6E880",
           "#FF97FF",
           "#FECB52"
          ],
          "font": {
           "color": "#2a3f5f"
          },
          "geo": {
           "bgcolor": "white",
           "lakecolor": "white",
           "landcolor": "white",
           "showlakes": true,
           "showland": true,
           "subunitcolor": "#C8D4E3"
          },
          "hoverlabel": {
           "align": "left"
          },
          "hovermode": "closest",
          "mapbox": {
           "style": "light"
          },
          "paper_bgcolor": "white",
          "plot_bgcolor": "white",
          "polar": {
           "angularaxis": {
            "gridcolor": "#EBF0F8",
            "linecolor": "#EBF0F8",
            "ticks": ""
           },
           "bgcolor": "white",
           "radialaxis": {
            "gridcolor": "#EBF0F8",
            "linecolor": "#EBF0F8",
            "ticks": ""
           }
          },
          "scene": {
           "xaxis": {
            "backgroundcolor": "white",
            "gridcolor": "#DFE8F3",
            "gridwidth": 2,
            "linecolor": "#EBF0F8",
            "showbackground": true,
            "ticks": "",
            "zerolinecolor": "#EBF0F8"
           },
           "yaxis": {
            "backgroundcolor": "white",
            "gridcolor": "#DFE8F3",
            "gridwidth": 2,
            "linecolor": "#EBF0F8",
            "showbackground": true,
            "ticks": "",
            "zerolinecolor": "#EBF0F8"
           },
           "zaxis": {
            "backgroundcolor": "white",
            "gridcolor": "#DFE8F3",
            "gridwidth": 2,
            "linecolor": "#EBF0F8",
            "showbackground": true,
            "ticks": "",
            "zerolinecolor": "#EBF0F8"
           }
          },
          "shapedefaults": {
           "line": {
            "color": "#2a3f5f"
           }
          },
          "ternary": {
           "aaxis": {
            "gridcolor": "#DFE8F3",
            "linecolor": "#A2B1C6",
            "ticks": ""
           },
           "baxis": {
            "gridcolor": "#DFE8F3",
            "linecolor": "#A2B1C6",
            "ticks": ""
           },
           "bgcolor": "white",
           "caxis": {
            "gridcolor": "#DFE8F3",
            "linecolor": "#A2B1C6",
            "ticks": ""
           }
          },
          "title": {
           "x": 0.05
          },
          "xaxis": {
           "automargin": true,
           "gridcolor": "#EBF0F8",
           "linecolor": "#EBF0F8",
           "ticks": "",
           "title": {
            "standoff": 15
           },
           "zerolinecolor": "#EBF0F8",
           "zerolinewidth": 2
          },
          "yaxis": {
           "automargin": true,
           "gridcolor": "#EBF0F8",
           "linecolor": "#EBF0F8",
           "ticks": "",
           "title": {
            "standoff": 15
           },
           "zerolinecolor": "#EBF0F8",
           "zerolinewidth": 2
          }
         }
        },
        "title": {
         "text": "Silhouette Coefficient vs. Number of Clusters"
        },
        "xaxis": {
         "title": {
          "text": "Number of Clusters (k)"
         }
        },
        "yaxis": {
         "title": {
          "text": "Silhouette Coefficient"
         }
        }
       }
      },
      "text/html": [
       "<div>                            <div id=\"f791a263-1fc1-4950-b16e-e43e28c2bc9d\" class=\"plotly-graph-div\" style=\"height:525px; width:100%;\"></div>            <script type=\"text/javascript\">                require([\"plotly\"], function(Plotly) {                    window.PLOTLYENV=window.PLOTLYENV || {};                                    if (document.getElementById(\"f791a263-1fc1-4950-b16e-e43e28c2bc9d\")) {                    Plotly.newPlot(                        \"f791a263-1fc1-4950-b16e-e43e28c2bc9d\",                        [{\"mode\":\"lines+markers\",\"x\":[2,3,4,5,6,7,8,9,10,11,12,13,14,15,16,17,18],\"y\":[0.5088482402587906,0.5743437026890781,0.580725679279504,0.5110470475689105,0.4855888176870409,0.3914982930024591,0.3958459351838197,0.3861406259726247,0.38608066731506197,0.36840358140463203,0.3687399945256562,0.37004953626545645,0.3795288650230182,0.3670961037513019,0.36470342029624786,0.3666080106478673,0.28498028251497065],\"type\":\"scatter\"}],                        {\"template\":{\"data\":{\"barpolar\":[{\"marker\":{\"line\":{\"color\":\"white\",\"width\":0.5},\"pattern\":{\"fillmode\":\"overlay\",\"size\":10,\"solidity\":0.2}},\"type\":\"barpolar\"}],\"bar\":[{\"error_x\":{\"color\":\"#2a3f5f\"},\"error_y\":{\"color\":\"#2a3f5f\"},\"marker\":{\"line\":{\"color\":\"white\",\"width\":0.5},\"pattern\":{\"fillmode\":\"overlay\",\"size\":10,\"solidity\":0.2}},\"type\":\"bar\"}],\"carpet\":[{\"aaxis\":{\"endlinecolor\":\"#2a3f5f\",\"gridcolor\":\"#C8D4E3\",\"linecolor\":\"#C8D4E3\",\"minorgridcolor\":\"#C8D4E3\",\"startlinecolor\":\"#2a3f5f\"},\"baxis\":{\"endlinecolor\":\"#2a3f5f\",\"gridcolor\":\"#C8D4E3\",\"linecolor\":\"#C8D4E3\",\"minorgridcolor\":\"#C8D4E3\",\"startlinecolor\":\"#2a3f5f\"},\"type\":\"carpet\"}],\"choropleth\":[{\"colorbar\":{\"outlinewidth\":0,\"ticks\":\"\"},\"type\":\"choropleth\"}],\"contourcarpet\":[{\"colorbar\":{\"outlinewidth\":0,\"ticks\":\"\"},\"type\":\"contourcarpet\"}],\"contour\":[{\"colorbar\":{\"outlinewidth\":0,\"ticks\":\"\"},\"colorscale\":[[0.0,\"#0d0887\"],[0.1111111111111111,\"#46039f\"],[0.2222222222222222,\"#7201a8\"],[0.3333333333333333,\"#9c179e\"],[0.4444444444444444,\"#bd3786\"],[0.5555555555555556,\"#d8576b\"],[0.6666666666666666,\"#ed7953\"],[0.7777777777777778,\"#fb9f3a\"],[0.8888888888888888,\"#fdca26\"],[1.0,\"#f0f921\"]],\"type\":\"contour\"}],\"heatmapgl\":[{\"colorbar\":{\"outlinewidth\":0,\"ticks\":\"\"},\"colorscale\":[[0.0,\"#0d0887\"],[0.1111111111111111,\"#46039f\"],[0.2222222222222222,\"#7201a8\"],[0.3333333333333333,\"#9c179e\"],[0.4444444444444444,\"#bd3786\"],[0.5555555555555556,\"#d8576b\"],[0.6666666666666666,\"#ed7953\"],[0.7777777777777778,\"#fb9f3a\"],[0.8888888888888888,\"#fdca26\"],[1.0,\"#f0f921\"]],\"type\":\"heatmapgl\"}],\"heatmap\":[{\"colorbar\":{\"outlinewidth\":0,\"ticks\":\"\"},\"colorscale\":[[0.0,\"#0d0887\"],[0.1111111111111111,\"#46039f\"],[0.2222222222222222,\"#7201a8\"],[0.3333333333333333,\"#9c179e\"],[0.4444444444444444,\"#bd3786\"],[0.5555555555555556,\"#d8576b\"],[0.6666666666666666,\"#ed7953\"],[0.7777777777777778,\"#fb9f3a\"],[0.8888888888888888,\"#fdca26\"],[1.0,\"#f0f921\"]],\"type\":\"heatmap\"}],\"histogram2dcontour\":[{\"colorbar\":{\"outlinewidth\":0,\"ticks\":\"\"},\"colorscale\":[[0.0,\"#0d0887\"],[0.1111111111111111,\"#46039f\"],[0.2222222222222222,\"#7201a8\"],[0.3333333333333333,\"#9c179e\"],[0.4444444444444444,\"#bd3786\"],[0.5555555555555556,\"#d8576b\"],[0.6666666666666666,\"#ed7953\"],[0.7777777777777778,\"#fb9f3a\"],[0.8888888888888888,\"#fdca26\"],[1.0,\"#f0f921\"]],\"type\":\"histogram2dcontour\"}],\"histogram2d\":[{\"colorbar\":{\"outlinewidth\":0,\"ticks\":\"\"},\"colorscale\":[[0.0,\"#0d0887\"],[0.1111111111111111,\"#46039f\"],[0.2222222222222222,\"#7201a8\"],[0.3333333333333333,\"#9c179e\"],[0.4444444444444444,\"#bd3786\"],[0.5555555555555556,\"#d8576b\"],[0.6666666666666666,\"#ed7953\"],[0.7777777777777778,\"#fb9f3a\"],[0.8888888888888888,\"#fdca26\"],[1.0,\"#f0f921\"]],\"type\":\"histogram2d\"}],\"histogram\":[{\"marker\":{\"pattern\":{\"fillmode\":\"overlay\",\"size\":10,\"solidity\":0.2}},\"type\":\"histogram\"}],\"mesh3d\":[{\"colorbar\":{\"outlinewidth\":0,\"ticks\":\"\"},\"type\":\"mesh3d\"}],\"parcoords\":[{\"line\":{\"colorbar\":{\"outlinewidth\":0,\"ticks\":\"\"}},\"type\":\"parcoords\"}],\"pie\":[{\"automargin\":true,\"type\":\"pie\"}],\"scatter3d\":[{\"line\":{\"colorbar\":{\"outlinewidth\":0,\"ticks\":\"\"}},\"marker\":{\"colorbar\":{\"outlinewidth\":0,\"ticks\":\"\"}},\"type\":\"scatter3d\"}],\"scattercarpet\":[{\"marker\":{\"colorbar\":{\"outlinewidth\":0,\"ticks\":\"\"}},\"type\":\"scattercarpet\"}],\"scattergeo\":[{\"marker\":{\"colorbar\":{\"outlinewidth\":0,\"ticks\":\"\"}},\"type\":\"scattergeo\"}],\"scattergl\":[{\"marker\":{\"colorbar\":{\"outlinewidth\":0,\"ticks\":\"\"}},\"type\":\"scattergl\"}],\"scattermapbox\":[{\"marker\":{\"colorbar\":{\"outlinewidth\":0,\"ticks\":\"\"}},\"type\":\"scattermapbox\"}],\"scatterpolargl\":[{\"marker\":{\"colorbar\":{\"outlinewidth\":0,\"ticks\":\"\"}},\"type\":\"scatterpolargl\"}],\"scatterpolar\":[{\"marker\":{\"colorbar\":{\"outlinewidth\":0,\"ticks\":\"\"}},\"type\":\"scatterpolar\"}],\"scatter\":[{\"fillpattern\":{\"fillmode\":\"overlay\",\"size\":10,\"solidity\":0.2},\"type\":\"scatter\"}],\"scatterternary\":[{\"marker\":{\"colorbar\":{\"outlinewidth\":0,\"ticks\":\"\"}},\"type\":\"scatterternary\"}],\"surface\":[{\"colorbar\":{\"outlinewidth\":0,\"ticks\":\"\"},\"colorscale\":[[0.0,\"#0d0887\"],[0.1111111111111111,\"#46039f\"],[0.2222222222222222,\"#7201a8\"],[0.3333333333333333,\"#9c179e\"],[0.4444444444444444,\"#bd3786\"],[0.5555555555555556,\"#d8576b\"],[0.6666666666666666,\"#ed7953\"],[0.7777777777777778,\"#fb9f3a\"],[0.8888888888888888,\"#fdca26\"],[1.0,\"#f0f921\"]],\"type\":\"surface\"}],\"table\":[{\"cells\":{\"fill\":{\"color\":\"#EBF0F8\"},\"line\":{\"color\":\"white\"}},\"header\":{\"fill\":{\"color\":\"#C8D4E3\"},\"line\":{\"color\":\"white\"}},\"type\":\"table\"}]},\"layout\":{\"annotationdefaults\":{\"arrowcolor\":\"#2a3f5f\",\"arrowhead\":0,\"arrowwidth\":1},\"autotypenumbers\":\"strict\",\"coloraxis\":{\"colorbar\":{\"outlinewidth\":0,\"ticks\":\"\"}},\"colorscale\":{\"diverging\":[[0,\"#8e0152\"],[0.1,\"#c51b7d\"],[0.2,\"#de77ae\"],[0.3,\"#f1b6da\"],[0.4,\"#fde0ef\"],[0.5,\"#f7f7f7\"],[0.6,\"#e6f5d0\"],[0.7,\"#b8e186\"],[0.8,\"#7fbc41\"],[0.9,\"#4d9221\"],[1,\"#276419\"]],\"sequential\":[[0.0,\"#0d0887\"],[0.1111111111111111,\"#46039f\"],[0.2222222222222222,\"#7201a8\"],[0.3333333333333333,\"#9c179e\"],[0.4444444444444444,\"#bd3786\"],[0.5555555555555556,\"#d8576b\"],[0.6666666666666666,\"#ed7953\"],[0.7777777777777778,\"#fb9f3a\"],[0.8888888888888888,\"#fdca26\"],[1.0,\"#f0f921\"]],\"sequentialminus\":[[0.0,\"#0d0887\"],[0.1111111111111111,\"#46039f\"],[0.2222222222222222,\"#7201a8\"],[0.3333333333333333,\"#9c179e\"],[0.4444444444444444,\"#bd3786\"],[0.5555555555555556,\"#d8576b\"],[0.6666666666666666,\"#ed7953\"],[0.7777777777777778,\"#fb9f3a\"],[0.8888888888888888,\"#fdca26\"],[1.0,\"#f0f921\"]]},\"colorway\":[\"#636efa\",\"#EF553B\",\"#00cc96\",\"#ab63fa\",\"#FFA15A\",\"#19d3f3\",\"#FF6692\",\"#B6E880\",\"#FF97FF\",\"#FECB52\"],\"font\":{\"color\":\"#2a3f5f\"},\"geo\":{\"bgcolor\":\"white\",\"lakecolor\":\"white\",\"landcolor\":\"white\",\"showlakes\":true,\"showland\":true,\"subunitcolor\":\"#C8D4E3\"},\"hoverlabel\":{\"align\":\"left\"},\"hovermode\":\"closest\",\"mapbox\":{\"style\":\"light\"},\"paper_bgcolor\":\"white\",\"plot_bgcolor\":\"white\",\"polar\":{\"angularaxis\":{\"gridcolor\":\"#EBF0F8\",\"linecolor\":\"#EBF0F8\",\"ticks\":\"\"},\"bgcolor\":\"white\",\"radialaxis\":{\"gridcolor\":\"#EBF0F8\",\"linecolor\":\"#EBF0F8\",\"ticks\":\"\"}},\"scene\":{\"xaxis\":{\"backgroundcolor\":\"white\",\"gridcolor\":\"#DFE8F3\",\"gridwidth\":2,\"linecolor\":\"#EBF0F8\",\"showbackground\":true,\"ticks\":\"\",\"zerolinecolor\":\"#EBF0F8\"},\"yaxis\":{\"backgroundcolor\":\"white\",\"gridcolor\":\"#DFE8F3\",\"gridwidth\":2,\"linecolor\":\"#EBF0F8\",\"showbackground\":true,\"ticks\":\"\",\"zerolinecolor\":\"#EBF0F8\"},\"zaxis\":{\"backgroundcolor\":\"white\",\"gridcolor\":\"#DFE8F3\",\"gridwidth\":2,\"linecolor\":\"#EBF0F8\",\"showbackground\":true,\"ticks\":\"\",\"zerolinecolor\":\"#EBF0F8\"}},\"shapedefaults\":{\"line\":{\"color\":\"#2a3f5f\"}},\"ternary\":{\"aaxis\":{\"gridcolor\":\"#DFE8F3\",\"linecolor\":\"#A2B1C6\",\"ticks\":\"\"},\"baxis\":{\"gridcolor\":\"#DFE8F3\",\"linecolor\":\"#A2B1C6\",\"ticks\":\"\"},\"bgcolor\":\"white\",\"caxis\":{\"gridcolor\":\"#DFE8F3\",\"linecolor\":\"#A2B1C6\",\"ticks\":\"\"}},\"title\":{\"x\":0.05},\"xaxis\":{\"automargin\":true,\"gridcolor\":\"#EBF0F8\",\"linecolor\":\"#EBF0F8\",\"ticks\":\"\",\"title\":{\"standoff\":15},\"zerolinecolor\":\"#EBF0F8\",\"zerolinewidth\":2},\"yaxis\":{\"automargin\":true,\"gridcolor\":\"#EBF0F8\",\"linecolor\":\"#EBF0F8\",\"ticks\":\"\",\"title\":{\"standoff\":15},\"zerolinecolor\":\"#EBF0F8\",\"zerolinewidth\":2}}},\"title\":{\"text\":\"Silhouette Coefficient vs. Number of Clusters\"},\"xaxis\":{\"title\":{\"text\":\"Number of Clusters (k)\"}},\"yaxis\":{\"title\":{\"text\":\"Silhouette Coefficient\"}},\"showlegend\":false},                        {\"responsive\": true}                    ).then(function(){\n",
       "                            \n",
       "var gd = document.getElementById('f791a263-1fc1-4950-b16e-e43e28c2bc9d');\n",
       "var x = new MutationObserver(function (mutations, observer) {{\n",
       "        var display = window.getComputedStyle(gd).display;\n",
       "        if (!display || display === 'none') {{\n",
       "            console.log([gd, 'removed!']);\n",
       "            Plotly.purge(gd);\n",
       "            observer.disconnect();\n",
       "        }}\n",
       "}});\n",
       "\n",
       "// Listen for the removal of the full notebook cells\n",
       "var notebookContainer = gd.closest('#notebook-container');\n",
       "if (notebookContainer) {{\n",
       "    x.observe(notebookContainer, {childList: true});\n",
       "}}\n",
       "\n",
       "// Listen for the clearing of the current output cell\n",
       "var outputEl = gd.closest('.output');\n",
       "if (outputEl) {{\n",
       "    x.observe(outputEl, {childList: true});\n",
       "}}\n",
       "\n",
       "                        })                };                });            </script>        </div>"
      ]
     },
     "metadata": {},
     "output_type": "display_data"
    }
   ],
   "source": [
    "# Suppress FutureWarning\n",
    "warnings.filterwarnings(\"ignore\", category=FutureWarning)\n",
    "\n",
    "# Call silhouette_plot with df_machine\n",
    "silhouette_plot(df_machine)"
   ]
  },
  {
   "cell_type": "code",
   "execution_count": 22,
   "id": "145ba7b6",
   "metadata": {},
   "outputs": [],
   "source": [
    "# Initializing\n",
    "pca = PCA(n_components=None) #Number of components to keep. if n_components is not set all components are kept\n",
    "\n",
    "pca.fit(iris.drop(columns=\"species\"))\n",
    "\n",
    "# Calculating variance\n",
    "exp_var = pca.explained_variance_ratio_ * 100\n",
    "cum_exp_var = np.cumsum(exp_var)\n",
    "\n",
    "# Plotting\n",
    "plt.bar(range(1, 5), exp_var, align='center',label='Individual explained variance') #bars\n",
    "plt.step(range(1, 5), cum_exp_var, where='mid', label='Cumulative explained variance', color='red') #line\n",
    "\n",
    "# Axis\n",
    "plt.ylabel('Explained variance percentage')\n",
    "plt.xlabel('Principal component index')\n",
    "plt.xticks(ticks=[1, 2, 3, 4])\n",
    "plt.legend(loc='best')\n",
    "plt.tight_layout()"
   ]
  },
  {
   "cell_type": "code",
   "execution_count": 23,
   "id": "41d91211",
   "metadata": {},
   "outputs": [
    {
     "data": {
      "text/plain": [
       "array([[-2.17077754e+01, -1.24180872e+01,  1.13009633e+01, ...,\n",
       "         1.51903456e+00,  2.25279803e+00, -1.11743932e+00],\n",
       "       [-1.66235786e+01,  5.48153361e+01,  1.02606455e+01, ...,\n",
       "         2.17065804e+00,  1.21873002e+00, -4.85887185e-01],\n",
       "       [-2.17126519e+01, -1.23351826e+01,  1.26125383e+01, ...,\n",
       "        -3.95195921e-01, -9.11435386e-01, -6.51596726e-01],\n",
       "       ...,\n",
       "       [ 1.12796172e+01, -6.39594997e+00, -8.95258829e+00, ...,\n",
       "        -1.98556149e-01, -3.33253659e-02, -9.30566940e-02],\n",
       "       [ 3.93197706e+01, -1.76594676e+01, -5.67073721e+00, ...,\n",
       "         6.81407907e-01, -4.37500375e-01, -2.86397461e-01],\n",
       "       [ 2.72002390e+01, -1.66533662e+01, -4.19487131e+00, ...,\n",
       "        -1.20268062e-01, -1.01389962e+00, -1.92004369e-01]])"
      ]
     },
     "execution_count": 23,
     "metadata": {},
     "output_type": "execute_result"
    }
   ],
   "source": [
    "apply_pca(df_machine,7)"
   ]
  },
  {
   "cell_type": "code",
   "execution_count": 7,
   "id": "08acefc5",
   "metadata": {},
   "outputs": [],
   "source": [
    "def davies_boulding_plot(df):\n",
    "    \"\"\"\n",
    "    Generate an interactive line chart of Davies-Bouldin Index vs. Number of Clusters using Plotly.\n",
    "    :Args:\n",
    "    df (pandas DataFrame): The input data.\n",
    "    \"\"\"\n",
    "    \n",
    "    k_values = list(range(2, 19))\n",
    "    davies_bouldin_scores = []\n",
    "\n",
    "    for k in k_values:\n",
    "        # Perform clustering with K clusters\n",
    "        kmeans = KMeans(n_clusters=k)\n",
    "        cluster_labels = kmeans.fit_predict(df)\n",
    "\n",
    "#Calculate the Davies-Bouldin Index for the clustering result\n",
    "        davies_bouldin_index = davies_bouldin_score(df, cluster_labels)\n",
    "        davies_bouldin_scores.append(davies_bouldin_index)\n",
    "\n",
    "    # Create the line chart\n",
    "    fig = go.Figure(data=go.Scatter(x=list(k_values), y=davies_bouldin_scores, mode='lines+markers'))\n",
    "    fig.update_layout(\n",
    "        title='Davies-Bouldin Index vs. Number of Clusters',\n",
    "        xaxis=dict(title='Number of Clusters (K)'),\n",
    "        yaxis=dict(title='Davies-Bouldin Index'),\n",
    "        showlegend=False,\n",
    "        template='plotly_white'\n",
    "    )\n",
    "    \n",
    "    fig.show()"
   ]
  },
  {
   "cell_type": "code",
   "execution_count": 8,
   "id": "3ada1b43",
   "metadata": {},
   "outputs": [
    {
     "data": {
      "application/vnd.plotly.v1+json": {
       "config": {
        "plotlyServerURL": "https://plot.ly"
       },
       "data": [
        {
         "mode": "lines+markers",
         "type": "scatter",
         "x": [
          2,
          3,
          4,
          5,
          6,
          7,
          8,
          9,
          10,
          11,
          12,
          13,
          14,
          15,
          16,
          17,
          18
         ],
         "y": [
          0.8653113696291356,
          0.6472785034926222,
          0.772531904746163,
          0.7995851027433926,
          0.8355841831117639,
          0.8861461814647191,
          0.9234794937212477,
          0.9765771964581713,
          0.9355127019875364,
          0.9395781762123775,
          1.0311429544765918,
          1.0391473297898062,
          0.9775532459287343,
          1.0687817680389933,
          1.1232372251410472,
          1.0544386686223706,
          1.11554394086847
         ]
        }
       ],
       "layout": {
        "showlegend": false,
        "template": {
         "data": {
          "bar": [
           {
            "error_x": {
             "color": "#2a3f5f"
            },
            "error_y": {
             "color": "#2a3f5f"
            },
            "marker": {
             "line": {
              "color": "white",
              "width": 0.5
             },
             "pattern": {
              "fillmode": "overlay",
              "size": 10,
              "solidity": 0.2
             }
            },
            "type": "bar"
           }
          ],
          "barpolar": [
           {
            "marker": {
             "line": {
              "color": "white",
              "width": 0.5
             },
             "pattern": {
              "fillmode": "overlay",
              "size": 10,
              "solidity": 0.2
             }
            },
            "type": "barpolar"
           }
          ],
          "carpet": [
           {
            "aaxis": {
             "endlinecolor": "#2a3f5f",
             "gridcolor": "#C8D4E3",
             "linecolor": "#C8D4E3",
             "minorgridcolor": "#C8D4E3",
             "startlinecolor": "#2a3f5f"
            },
            "baxis": {
             "endlinecolor": "#2a3f5f",
             "gridcolor": "#C8D4E3",
             "linecolor": "#C8D4E3",
             "minorgridcolor": "#C8D4E3",
             "startlinecolor": "#2a3f5f"
            },
            "type": "carpet"
           }
          ],
          "choropleth": [
           {
            "colorbar": {
             "outlinewidth": 0,
             "ticks": ""
            },
            "type": "choropleth"
           }
          ],
          "contour": [
           {
            "colorbar": {
             "outlinewidth": 0,
             "ticks": ""
            },
            "colorscale": [
             [
              0,
              "#0d0887"
             ],
             [
              0.1111111111111111,
              "#46039f"
             ],
             [
              0.2222222222222222,
              "#7201a8"
             ],
             [
              0.3333333333333333,
              "#9c179e"
             ],
             [
              0.4444444444444444,
              "#bd3786"
             ],
             [
              0.5555555555555556,
              "#d8576b"
             ],
             [
              0.6666666666666666,
              "#ed7953"
             ],
             [
              0.7777777777777778,
              "#fb9f3a"
             ],
             [
              0.8888888888888888,
              "#fdca26"
             ],
             [
              1,
              "#f0f921"
             ]
            ],
            "type": "contour"
           }
          ],
          "contourcarpet": [
           {
            "colorbar": {
             "outlinewidth": 0,
             "ticks": ""
            },
            "type": "contourcarpet"
           }
          ],
          "heatmap": [
           {
            "colorbar": {
             "outlinewidth": 0,
             "ticks": ""
            },
            "colorscale": [
             [
              0,
              "#0d0887"
             ],
             [
              0.1111111111111111,
              "#46039f"
             ],
             [
              0.2222222222222222,
              "#7201a8"
             ],
             [
              0.3333333333333333,
              "#9c179e"
             ],
             [
              0.4444444444444444,
              "#bd3786"
             ],
             [
              0.5555555555555556,
              "#d8576b"
             ],
             [
              0.6666666666666666,
              "#ed7953"
             ],
             [
              0.7777777777777778,
              "#fb9f3a"
             ],
             [
              0.8888888888888888,
              "#fdca26"
             ],
             [
              1,
              "#f0f921"
             ]
            ],
            "type": "heatmap"
           }
          ],
          "heatmapgl": [
           {
            "colorbar": {
             "outlinewidth": 0,
             "ticks": ""
            },
            "colorscale": [
             [
              0,
              "#0d0887"
             ],
             [
              0.1111111111111111,
              "#46039f"
             ],
             [
              0.2222222222222222,
              "#7201a8"
             ],
             [
              0.3333333333333333,
              "#9c179e"
             ],
             [
              0.4444444444444444,
              "#bd3786"
             ],
             [
              0.5555555555555556,
              "#d8576b"
             ],
             [
              0.6666666666666666,
              "#ed7953"
             ],
             [
              0.7777777777777778,
              "#fb9f3a"
             ],
             [
              0.8888888888888888,
              "#fdca26"
             ],
             [
              1,
              "#f0f921"
             ]
            ],
            "type": "heatmapgl"
           }
          ],
          "histogram": [
           {
            "marker": {
             "pattern": {
              "fillmode": "overlay",
              "size": 10,
              "solidity": 0.2
             }
            },
            "type": "histogram"
           }
          ],
          "histogram2d": [
           {
            "colorbar": {
             "outlinewidth": 0,
             "ticks": ""
            },
            "colorscale": [
             [
              0,
              "#0d0887"
             ],
             [
              0.1111111111111111,
              "#46039f"
             ],
             [
              0.2222222222222222,
              "#7201a8"
             ],
             [
              0.3333333333333333,
              "#9c179e"
             ],
             [
              0.4444444444444444,
              "#bd3786"
             ],
             [
              0.5555555555555556,
              "#d8576b"
             ],
             [
              0.6666666666666666,
              "#ed7953"
             ],
             [
              0.7777777777777778,
              "#fb9f3a"
             ],
             [
              0.8888888888888888,
              "#fdca26"
             ],
             [
              1,
              "#f0f921"
             ]
            ],
            "type": "histogram2d"
           }
          ],
          "histogram2dcontour": [
           {
            "colorbar": {
             "outlinewidth": 0,
             "ticks": ""
            },
            "colorscale": [
             [
              0,
              "#0d0887"
             ],
             [
              0.1111111111111111,
              "#46039f"
             ],
             [
              0.2222222222222222,
              "#7201a8"
             ],
             [
              0.3333333333333333,
              "#9c179e"
             ],
             [
              0.4444444444444444,
              "#bd3786"
             ],
             [
              0.5555555555555556,
              "#d8576b"
             ],
             [
              0.6666666666666666,
              "#ed7953"
             ],
             [
              0.7777777777777778,
              "#fb9f3a"
             ],
             [
              0.8888888888888888,
              "#fdca26"
             ],
             [
              1,
              "#f0f921"
             ]
            ],
            "type": "histogram2dcontour"
           }
          ],
          "mesh3d": [
           {
            "colorbar": {
             "outlinewidth": 0,
             "ticks": ""
            },
            "type": "mesh3d"
           }
          ],
          "parcoords": [
           {
            "line": {
             "colorbar": {
              "outlinewidth": 0,
              "ticks": ""
             }
            },
            "type": "parcoords"
           }
          ],
          "pie": [
           {
            "automargin": true,
            "type": "pie"
           }
          ],
          "scatter": [
           {
            "fillpattern": {
             "fillmode": "overlay",
             "size": 10,
             "solidity": 0.2
            },
            "type": "scatter"
           }
          ],
          "scatter3d": [
           {
            "line": {
             "colorbar": {
              "outlinewidth": 0,
              "ticks": ""
             }
            },
            "marker": {
             "colorbar": {
              "outlinewidth": 0,
              "ticks": ""
             }
            },
            "type": "scatter3d"
           }
          ],
          "scattercarpet": [
           {
            "marker": {
             "colorbar": {
              "outlinewidth": 0,
              "ticks": ""
             }
            },
            "type": "scattercarpet"
           }
          ],
          "scattergeo": [
           {
            "marker": {
             "colorbar": {
              "outlinewidth": 0,
              "ticks": ""
             }
            },
            "type": "scattergeo"
           }
          ],
          "scattergl": [
           {
            "marker": {
             "colorbar": {
              "outlinewidth": 0,
              "ticks": ""
             }
            },
            "type": "scattergl"
           }
          ],
          "scattermapbox": [
           {
            "marker": {
             "colorbar": {
              "outlinewidth": 0,
              "ticks": ""
             }
            },
            "type": "scattermapbox"
           }
          ],
          "scatterpolar": [
           {
            "marker": {
             "colorbar": {
              "outlinewidth": 0,
              "ticks": ""
             }
            },
            "type": "scatterpolar"
           }
          ],
          "scatterpolargl": [
           {
            "marker": {
             "colorbar": {
              "outlinewidth": 0,
              "ticks": ""
             }
            },
            "type": "scatterpolargl"
           }
          ],
          "scatterternary": [
           {
            "marker": {
             "colorbar": {
              "outlinewidth": 0,
              "ticks": ""
             }
            },
            "type": "scatterternary"
           }
          ],
          "surface": [
           {
            "colorbar": {
             "outlinewidth": 0,
             "ticks": ""
            },
            "colorscale": [
             [
              0,
              "#0d0887"
             ],
             [
              0.1111111111111111,
              "#46039f"
             ],
             [
              0.2222222222222222,
              "#7201a8"
             ],
             [
              0.3333333333333333,
              "#9c179e"
             ],
             [
              0.4444444444444444,
              "#bd3786"
             ],
             [
              0.5555555555555556,
              "#d8576b"
             ],
             [
              0.6666666666666666,
              "#ed7953"
             ],
             [
              0.7777777777777778,
              "#fb9f3a"
             ],
             [
              0.8888888888888888,
              "#fdca26"
             ],
             [
              1,
              "#f0f921"
             ]
            ],
            "type": "surface"
           }
          ],
          "table": [
           {
            "cells": {
             "fill": {
              "color": "#EBF0F8"
             },
             "line": {
              "color": "white"
             }
            },
            "header": {
             "fill": {
              "color": "#C8D4E3"
             },
             "line": {
              "color": "white"
             }
            },
            "type": "table"
           }
          ]
         },
         "layout": {
          "annotationdefaults": {
           "arrowcolor": "#2a3f5f",
           "arrowhead": 0,
           "arrowwidth": 1
          },
          "autotypenumbers": "strict",
          "coloraxis": {
           "colorbar": {
            "outlinewidth": 0,
            "ticks": ""
           }
          },
          "colorscale": {
           "diverging": [
            [
             0,
             "#8e0152"
            ],
            [
             0.1,
             "#c51b7d"
            ],
            [
             0.2,
             "#de77ae"
            ],
            [
             0.3,
             "#f1b6da"
            ],
            [
             0.4,
             "#fde0ef"
            ],
            [
             0.5,
             "#f7f7f7"
            ],
            [
             0.6,
             "#e6f5d0"
            ],
            [
             0.7,
             "#b8e186"
            ],
            [
             0.8,
             "#7fbc41"
            ],
            [
             0.9,
             "#4d9221"
            ],
            [
             1,
             "#276419"
            ]
           ],
           "sequential": [
            [
             0,
             "#0d0887"
            ],
            [
             0.1111111111111111,
             "#46039f"
            ],
            [
             0.2222222222222222,
             "#7201a8"
            ],
            [
             0.3333333333333333,
             "#9c179e"
            ],
            [
             0.4444444444444444,
             "#bd3786"
            ],
            [
             0.5555555555555556,
             "#d8576b"
            ],
            [
             0.6666666666666666,
             "#ed7953"
            ],
            [
             0.7777777777777778,
             "#fb9f3a"
            ],
            [
             0.8888888888888888,
             "#fdca26"
            ],
            [
             1,
             "#f0f921"
            ]
           ],
           "sequentialminus": [
            [
             0,
             "#0d0887"
            ],
            [
             0.1111111111111111,
             "#46039f"
            ],
            [
             0.2222222222222222,
             "#7201a8"
            ],
            [
             0.3333333333333333,
             "#9c179e"
            ],
            [
             0.4444444444444444,
             "#bd3786"
            ],
            [
             0.5555555555555556,
             "#d8576b"
            ],
            [
             0.6666666666666666,
             "#ed7953"
            ],
            [
             0.7777777777777778,
             "#fb9f3a"
            ],
            [
             0.8888888888888888,
             "#fdca26"
            ],
            [
             1,
             "#f0f921"
            ]
           ]
          },
          "colorway": [
           "#636efa",
           "#EF553B",
           "#00cc96",
           "#ab63fa",
           "#FFA15A",
           "#19d3f3",
           "#FF6692",
           "#B6E880",
           "#FF97FF",
           "#FECB52"
          ],
          "font": {
           "color": "#2a3f5f"
          },
          "geo": {
           "bgcolor": "white",
           "lakecolor": "white",
           "landcolor": "white",
           "showlakes": true,
           "showland": true,
           "subunitcolor": "#C8D4E3"
          },
          "hoverlabel": {
           "align": "left"
          },
          "hovermode": "closest",
          "mapbox": {
           "style": "light"
          },
          "paper_bgcolor": "white",
          "plot_bgcolor": "white",
          "polar": {
           "angularaxis": {
            "gridcolor": "#EBF0F8",
            "linecolor": "#EBF0F8",
            "ticks": ""
           },
           "bgcolor": "white",
           "radialaxis": {
            "gridcolor": "#EBF0F8",
            "linecolor": "#EBF0F8",
            "ticks": ""
           }
          },
          "scene": {
           "xaxis": {
            "backgroundcolor": "white",
            "gridcolor": "#DFE8F3",
            "gridwidth": 2,
            "linecolor": "#EBF0F8",
            "showbackground": true,
            "ticks": "",
            "zerolinecolor": "#EBF0F8"
           },
           "yaxis": {
            "backgroundcolor": "white",
            "gridcolor": "#DFE8F3",
            "gridwidth": 2,
            "linecolor": "#EBF0F8",
            "showbackground": true,
            "ticks": "",
            "zerolinecolor": "#EBF0F8"
           },
           "zaxis": {
            "backgroundcolor": "white",
            "gridcolor": "#DFE8F3",
            "gridwidth": 2,
            "linecolor": "#EBF0F8",
            "showbackground": true,
            "ticks": "",
            "zerolinecolor": "#EBF0F8"
           }
          },
          "shapedefaults": {
           "line": {
            "color": "#2a3f5f"
           }
          },
          "ternary": {
           "aaxis": {
            "gridcolor": "#DFE8F3",
            "linecolor": "#A2B1C6",
            "ticks": ""
           },
           "baxis": {
            "gridcolor": "#DFE8F3",
            "linecolor": "#A2B1C6",
            "ticks": ""
           },
           "bgcolor": "white",
           "caxis": {
            "gridcolor": "#DFE8F3",
            "linecolor": "#A2B1C6",
            "ticks": ""
           }
          },
          "title": {
           "x": 0.05
          },
          "xaxis": {
           "automargin": true,
           "gridcolor": "#EBF0F8",
           "linecolor": "#EBF0F8",
           "ticks": "",
           "title": {
            "standoff": 15
           },
           "zerolinecolor": "#EBF0F8",
           "zerolinewidth": 2
          },
          "yaxis": {
           "automargin": true,
           "gridcolor": "#EBF0F8",
           "linecolor": "#EBF0F8",
           "ticks": "",
           "title": {
            "standoff": 15
           },
           "zerolinecolor": "#EBF0F8",
           "zerolinewidth": 2
          }
         }
        },
        "title": {
         "text": "Davies-Bouldin Index vs. Number of Clusters"
        },
        "xaxis": {
         "title": {
          "text": "Number of Clusters (K)"
         }
        },
        "yaxis": {
         "title": {
          "text": "Davies-Bouldin Index"
         }
        }
       }
      },
      "text/html": [
       "<div>                            <div id=\"00f4e12d-498a-4351-9839-50026c08285c\" class=\"plotly-graph-div\" style=\"height:525px; width:100%;\"></div>            <script type=\"text/javascript\">                require([\"plotly\"], function(Plotly) {                    window.PLOTLYENV=window.PLOTLYENV || {};                                    if (document.getElementById(\"00f4e12d-498a-4351-9839-50026c08285c\")) {                    Plotly.newPlot(                        \"00f4e12d-498a-4351-9839-50026c08285c\",                        [{\"mode\":\"lines+markers\",\"x\":[2,3,4,5,6,7,8,9,10,11,12,13,14,15,16,17,18],\"y\":[0.8653113696291356,0.6472785034926222,0.772531904746163,0.7995851027433926,0.8355841831117639,0.8861461814647191,0.9234794937212477,0.9765771964581713,0.9355127019875364,0.9395781762123775,1.0311429544765918,1.0391473297898062,0.9775532459287343,1.0687817680389933,1.1232372251410472,1.0544386686223706,1.11554394086847],\"type\":\"scatter\"}],                        {\"template\":{\"data\":{\"barpolar\":[{\"marker\":{\"line\":{\"color\":\"white\",\"width\":0.5},\"pattern\":{\"fillmode\":\"overlay\",\"size\":10,\"solidity\":0.2}},\"type\":\"barpolar\"}],\"bar\":[{\"error_x\":{\"color\":\"#2a3f5f\"},\"error_y\":{\"color\":\"#2a3f5f\"},\"marker\":{\"line\":{\"color\":\"white\",\"width\":0.5},\"pattern\":{\"fillmode\":\"overlay\",\"size\":10,\"solidity\":0.2}},\"type\":\"bar\"}],\"carpet\":[{\"aaxis\":{\"endlinecolor\":\"#2a3f5f\",\"gridcolor\":\"#C8D4E3\",\"linecolor\":\"#C8D4E3\",\"minorgridcolor\":\"#C8D4E3\",\"startlinecolor\":\"#2a3f5f\"},\"baxis\":{\"endlinecolor\":\"#2a3f5f\",\"gridcolor\":\"#C8D4E3\",\"linecolor\":\"#C8D4E3\",\"minorgridcolor\":\"#C8D4E3\",\"startlinecolor\":\"#2a3f5f\"},\"type\":\"carpet\"}],\"choropleth\":[{\"colorbar\":{\"outlinewidth\":0,\"ticks\":\"\"},\"type\":\"choropleth\"}],\"contourcarpet\":[{\"colorbar\":{\"outlinewidth\":0,\"ticks\":\"\"},\"type\":\"contourcarpet\"}],\"contour\":[{\"colorbar\":{\"outlinewidth\":0,\"ticks\":\"\"},\"colorscale\":[[0.0,\"#0d0887\"],[0.1111111111111111,\"#46039f\"],[0.2222222222222222,\"#7201a8\"],[0.3333333333333333,\"#9c179e\"],[0.4444444444444444,\"#bd3786\"],[0.5555555555555556,\"#d8576b\"],[0.6666666666666666,\"#ed7953\"],[0.7777777777777778,\"#fb9f3a\"],[0.8888888888888888,\"#fdca26\"],[1.0,\"#f0f921\"]],\"type\":\"contour\"}],\"heatmapgl\":[{\"colorbar\":{\"outlinewidth\":0,\"ticks\":\"\"},\"colorscale\":[[0.0,\"#0d0887\"],[0.1111111111111111,\"#46039f\"],[0.2222222222222222,\"#7201a8\"],[0.3333333333333333,\"#9c179e\"],[0.4444444444444444,\"#bd3786\"],[0.5555555555555556,\"#d8576b\"],[0.6666666666666666,\"#ed7953\"],[0.7777777777777778,\"#fb9f3a\"],[0.8888888888888888,\"#fdca26\"],[1.0,\"#f0f921\"]],\"type\":\"heatmapgl\"}],\"heatmap\":[{\"colorbar\":{\"outlinewidth\":0,\"ticks\":\"\"},\"colorscale\":[[0.0,\"#0d0887\"],[0.1111111111111111,\"#46039f\"],[0.2222222222222222,\"#7201a8\"],[0.3333333333333333,\"#9c179e\"],[0.4444444444444444,\"#bd3786\"],[0.5555555555555556,\"#d8576b\"],[0.6666666666666666,\"#ed7953\"],[0.7777777777777778,\"#fb9f3a\"],[0.8888888888888888,\"#fdca26\"],[1.0,\"#f0f921\"]],\"type\":\"heatmap\"}],\"histogram2dcontour\":[{\"colorbar\":{\"outlinewidth\":0,\"ticks\":\"\"},\"colorscale\":[[0.0,\"#0d0887\"],[0.1111111111111111,\"#46039f\"],[0.2222222222222222,\"#7201a8\"],[0.3333333333333333,\"#9c179e\"],[0.4444444444444444,\"#bd3786\"],[0.5555555555555556,\"#d8576b\"],[0.6666666666666666,\"#ed7953\"],[0.7777777777777778,\"#fb9f3a\"],[0.8888888888888888,\"#fdca26\"],[1.0,\"#f0f921\"]],\"type\":\"histogram2dcontour\"}],\"histogram2d\":[{\"colorbar\":{\"outlinewidth\":0,\"ticks\":\"\"},\"colorscale\":[[0.0,\"#0d0887\"],[0.1111111111111111,\"#46039f\"],[0.2222222222222222,\"#7201a8\"],[0.3333333333333333,\"#9c179e\"],[0.4444444444444444,\"#bd3786\"],[0.5555555555555556,\"#d8576b\"],[0.6666666666666666,\"#ed7953\"],[0.7777777777777778,\"#fb9f3a\"],[0.8888888888888888,\"#fdca26\"],[1.0,\"#f0f921\"]],\"type\":\"histogram2d\"}],\"histogram\":[{\"marker\":{\"pattern\":{\"fillmode\":\"overlay\",\"size\":10,\"solidity\":0.2}},\"type\":\"histogram\"}],\"mesh3d\":[{\"colorbar\":{\"outlinewidth\":0,\"ticks\":\"\"},\"type\":\"mesh3d\"}],\"parcoords\":[{\"line\":{\"colorbar\":{\"outlinewidth\":0,\"ticks\":\"\"}},\"type\":\"parcoords\"}],\"pie\":[{\"automargin\":true,\"type\":\"pie\"}],\"scatter3d\":[{\"line\":{\"colorbar\":{\"outlinewidth\":0,\"ticks\":\"\"}},\"marker\":{\"colorbar\":{\"outlinewidth\":0,\"ticks\":\"\"}},\"type\":\"scatter3d\"}],\"scattercarpet\":[{\"marker\":{\"colorbar\":{\"outlinewidth\":0,\"ticks\":\"\"}},\"type\":\"scattercarpet\"}],\"scattergeo\":[{\"marker\":{\"colorbar\":{\"outlinewidth\":0,\"ticks\":\"\"}},\"type\":\"scattergeo\"}],\"scattergl\":[{\"marker\":{\"colorbar\":{\"outlinewidth\":0,\"ticks\":\"\"}},\"type\":\"scattergl\"}],\"scattermapbox\":[{\"marker\":{\"colorbar\":{\"outlinewidth\":0,\"ticks\":\"\"}},\"type\":\"scattermapbox\"}],\"scatterpolargl\":[{\"marker\":{\"colorbar\":{\"outlinewidth\":0,\"ticks\":\"\"}},\"type\":\"scatterpolargl\"}],\"scatterpolar\":[{\"marker\":{\"colorbar\":{\"outlinewidth\":0,\"ticks\":\"\"}},\"type\":\"scatterpolar\"}],\"scatter\":[{\"fillpattern\":{\"fillmode\":\"overlay\",\"size\":10,\"solidity\":0.2},\"type\":\"scatter\"}],\"scatterternary\":[{\"marker\":{\"colorbar\":{\"outlinewidth\":0,\"ticks\":\"\"}},\"type\":\"scatterternary\"}],\"surface\":[{\"colorbar\":{\"outlinewidth\":0,\"ticks\":\"\"},\"colorscale\":[[0.0,\"#0d0887\"],[0.1111111111111111,\"#46039f\"],[0.2222222222222222,\"#7201a8\"],[0.3333333333333333,\"#9c179e\"],[0.4444444444444444,\"#bd3786\"],[0.5555555555555556,\"#d8576b\"],[0.6666666666666666,\"#ed7953\"],[0.7777777777777778,\"#fb9f3a\"],[0.8888888888888888,\"#fdca26\"],[1.0,\"#f0f921\"]],\"type\":\"surface\"}],\"table\":[{\"cells\":{\"fill\":{\"color\":\"#EBF0F8\"},\"line\":{\"color\":\"white\"}},\"header\":{\"fill\":{\"color\":\"#C8D4E3\"},\"line\":{\"color\":\"white\"}},\"type\":\"table\"}]},\"layout\":{\"annotationdefaults\":{\"arrowcolor\":\"#2a3f5f\",\"arrowhead\":0,\"arrowwidth\":1},\"autotypenumbers\":\"strict\",\"coloraxis\":{\"colorbar\":{\"outlinewidth\":0,\"ticks\":\"\"}},\"colorscale\":{\"diverging\":[[0,\"#8e0152\"],[0.1,\"#c51b7d\"],[0.2,\"#de77ae\"],[0.3,\"#f1b6da\"],[0.4,\"#fde0ef\"],[0.5,\"#f7f7f7\"],[0.6,\"#e6f5d0\"],[0.7,\"#b8e186\"],[0.8,\"#7fbc41\"],[0.9,\"#4d9221\"],[1,\"#276419\"]],\"sequential\":[[0.0,\"#0d0887\"],[0.1111111111111111,\"#46039f\"],[0.2222222222222222,\"#7201a8\"],[0.3333333333333333,\"#9c179e\"],[0.4444444444444444,\"#bd3786\"],[0.5555555555555556,\"#d8576b\"],[0.6666666666666666,\"#ed7953\"],[0.7777777777777778,\"#fb9f3a\"],[0.8888888888888888,\"#fdca26\"],[1.0,\"#f0f921\"]],\"sequentialminus\":[[0.0,\"#0d0887\"],[0.1111111111111111,\"#46039f\"],[0.2222222222222222,\"#7201a8\"],[0.3333333333333333,\"#9c179e\"],[0.4444444444444444,\"#bd3786\"],[0.5555555555555556,\"#d8576b\"],[0.6666666666666666,\"#ed7953\"],[0.7777777777777778,\"#fb9f3a\"],[0.8888888888888888,\"#fdca26\"],[1.0,\"#f0f921\"]]},\"colorway\":[\"#636efa\",\"#EF553B\",\"#00cc96\",\"#ab63fa\",\"#FFA15A\",\"#19d3f3\",\"#FF6692\",\"#B6E880\",\"#FF97FF\",\"#FECB52\"],\"font\":{\"color\":\"#2a3f5f\"},\"geo\":{\"bgcolor\":\"white\",\"lakecolor\":\"white\",\"landcolor\":\"white\",\"showlakes\":true,\"showland\":true,\"subunitcolor\":\"#C8D4E3\"},\"hoverlabel\":{\"align\":\"left\"},\"hovermode\":\"closest\",\"mapbox\":{\"style\":\"light\"},\"paper_bgcolor\":\"white\",\"plot_bgcolor\":\"white\",\"polar\":{\"angularaxis\":{\"gridcolor\":\"#EBF0F8\",\"linecolor\":\"#EBF0F8\",\"ticks\":\"\"},\"bgcolor\":\"white\",\"radialaxis\":{\"gridcolor\":\"#EBF0F8\",\"linecolor\":\"#EBF0F8\",\"ticks\":\"\"}},\"scene\":{\"xaxis\":{\"backgroundcolor\":\"white\",\"gridcolor\":\"#DFE8F3\",\"gridwidth\":2,\"linecolor\":\"#EBF0F8\",\"showbackground\":true,\"ticks\":\"\",\"zerolinecolor\":\"#EBF0F8\"},\"yaxis\":{\"backgroundcolor\":\"white\",\"gridcolor\":\"#DFE8F3\",\"gridwidth\":2,\"linecolor\":\"#EBF0F8\",\"showbackground\":true,\"ticks\":\"\",\"zerolinecolor\":\"#EBF0F8\"},\"zaxis\":{\"backgroundcolor\":\"white\",\"gridcolor\":\"#DFE8F3\",\"gridwidth\":2,\"linecolor\":\"#EBF0F8\",\"showbackground\":true,\"ticks\":\"\",\"zerolinecolor\":\"#EBF0F8\"}},\"shapedefaults\":{\"line\":{\"color\":\"#2a3f5f\"}},\"ternary\":{\"aaxis\":{\"gridcolor\":\"#DFE8F3\",\"linecolor\":\"#A2B1C6\",\"ticks\":\"\"},\"baxis\":{\"gridcolor\":\"#DFE8F3\",\"linecolor\":\"#A2B1C6\",\"ticks\":\"\"},\"bgcolor\":\"white\",\"caxis\":{\"gridcolor\":\"#DFE8F3\",\"linecolor\":\"#A2B1C6\",\"ticks\":\"\"}},\"title\":{\"x\":0.05},\"xaxis\":{\"automargin\":true,\"gridcolor\":\"#EBF0F8\",\"linecolor\":\"#EBF0F8\",\"ticks\":\"\",\"title\":{\"standoff\":15},\"zerolinecolor\":\"#EBF0F8\",\"zerolinewidth\":2},\"yaxis\":{\"automargin\":true,\"gridcolor\":\"#EBF0F8\",\"linecolor\":\"#EBF0F8\",\"ticks\":\"\",\"title\":{\"standoff\":15},\"zerolinecolor\":\"#EBF0F8\",\"zerolinewidth\":2}}},\"title\":{\"text\":\"Davies-Bouldin Index vs. Number of Clusters\"},\"xaxis\":{\"title\":{\"text\":\"Number of Clusters (K)\"}},\"yaxis\":{\"title\":{\"text\":\"Davies-Bouldin Index\"}},\"showlegend\":false},                        {\"responsive\": true}                    ).then(function(){\n",
       "                            \n",
       "var gd = document.getElementById('00f4e12d-498a-4351-9839-50026c08285c');\n",
       "var x = new MutationObserver(function (mutations, observer) {{\n",
       "        var display = window.getComputedStyle(gd).display;\n",
       "        if (!display || display === 'none') {{\n",
       "            console.log([gd, 'removed!']);\n",
       "            Plotly.purge(gd);\n",
       "            observer.disconnect();\n",
       "        }}\n",
       "}});\n",
       "\n",
       "// Listen for the removal of the full notebook cells\n",
       "var notebookContainer = gd.closest('#notebook-container');\n",
       "if (notebookContainer) {{\n",
       "    x.observe(notebookContainer, {childList: true});\n",
       "}}\n",
       "\n",
       "// Listen for the clearing of the current output cell\n",
       "var outputEl = gd.closest('.output');\n",
       "if (outputEl) {{\n",
       "    x.observe(outputEl, {childList: true});\n",
       "}}\n",
       "\n",
       "                        })                };                });            </script>        </div>"
      ]
     },
     "metadata": {},
     "output_type": "display_data"
    }
   ],
   "source": [
    "davies_boulding_plot(df_machine)"
   ]
  },
  {
   "cell_type": "code",
   "execution_count": 9,
   "id": "41199c96",
   "metadata": {},
   "outputs": [
    {
     "data": {
      "image/png": "[encoded data removed]",
      "text/plain": [
       "<Figure size 1500x800 with 1 Axes>"
      ]
     },
     "metadata": {},
     "output_type": "display_data"
    }
   ],
   "source": [
    "#Instantiating TSNE\n",
    "tsne = TSNE(n_components=2, random_state=42)\n",
    "\n",
    "\n",
    "tsne_df = pd.DataFrame(tsne.fit_transform(df_machine), columns = ['X', 'Y'] )\n",
    "\n",
    "sns.set(rc = {'figure.figsize':(15,8)})\n",
    "sns.scatterplot(x= 'X', y= 'Y',data= tsne_df).set(title= '2D Data Projection');"
   ]
  },
  {
   "cell_type": "code",
   "execution_count": 25,
   "id": "22c8e8b0",
   "metadata": {
    "scrolled": true
   },
   "outputs": [
    {
     "data": {
      "image/png": "[encoded data removed]",
      "text/plain": [
       "<Figure size 2000x1500 with 1 Axes>"
      ]
     },
     "metadata": {},
     "output_type": "display_data"
    }
   ],
   "source": [
    "km = KMeans(n_clusters = 7).fit(df_machine)\n",
    "tsne_df['cluster'] = pd.Categorical(km.labels_)\n",
    "\n",
    "sns.set(rc = {'figure.figsize':(20,15)})\n",
    "sns.scatterplot(x='X', y='Y', hue='cluster', style='cluster', data= tsne_df).set(title= 'K-Means with k=9');"
   ]
  },
  {
   "cell_type": "code",
   "execution_count": 36,
   "id": "a40ce8a0",
   "metadata": {},
   "outputs": [],
   "source": [
    "import pandas as pd\n",
    "import numpy as np\n",
    "from sklearn.cluster import KMeans\n",
    "\n",
    "# Ejecutar el algoritmo K-Means con n_init explícito\n",
    "kmeans = KMeans(n_clusters=7, n_init=10).fit(df_machine)\n",
    "\n",
    "# Agregar las etiquetas de clúster al DataFrame tsne_df\n",
    "tsne_df['cluster'] = pd.Categorical(kmeans.labels_)\n",
    "\n",
    "# Crear un diccionario para almacenar los DataFrames de cada clúster\n",
    "cluster_dataframes = {}\n",
    "\n",
    "# Iterar sobre cada clúster y crear el DataFrame correspondiente\n",
    "for cluster in range(9):\n",
    "    cluster_indices = np.where(kmeans.labels_ == cluster)[0]\n",
    "    cluster_dataframes[cluster] = df_machine.iloc[cluster_indices]\n",
    "\n",
    "# Acceder a un DataFrame específico de un clúster\n",
    "cluster_6_df = cluster_dataframes[6]"
   ]
  },
  {
   "cell_type": "code",
   "execution_count": 27,
   "id": "e16c704f",
   "metadata": {},
   "outputs": [
    {
     "data": {
      "text/html": [
       "<div>\n",
       "<style scoped>\n",
       "    .dataframe tbody tr th:only-of-type {\n",
       "        vertical-align: middle;\n",
       "    }\n",
       "\n",
       "    .dataframe tbody tr th {\n",
       "        vertical-align: top;\n",
       "    }\n",
       "\n",
       "    .dataframe thead th {\n",
       "        text-align: right;\n",
       "    }\n",
       "</style>\n",
       "<table border=\"1\" class=\"dataframe\">\n",
       "  <thead>\n",
       "    <tr style=\"text-align: right;\">\n",
       "      <th></th>\n",
       "      <th>HORAS DE CONTRATO</th>\n",
       "      <th>Categoría</th>\n",
       "      <th>Número de hijos</th>\n",
       "      <th>Sexo</th>\n",
       "      <th>Supervisora/Coordinador</th>\n",
       "      <th>Sección</th>\n",
       "      <th>IT/AT</th>\n",
       "      <th>Horas contratadas</th>\n",
       "      <th>TIPO DE BAJA</th>\n",
       "      <th>Evaluación</th>\n",
       "      <th>Supervisor/a</th>\n",
       "      <th>CATEGORIA</th>\n",
       "      <th>SECCIÓN</th>\n",
       "      <th>TIENDA/SECCION INICIAL</th>\n",
       "      <th>SECCIÓN2</th>\n",
       "      <th>TIENDA/SECCION FINAL2</th>\n",
       "      <th>QUIEN CAUSO BAJA?</th>\n",
       "      <th>FECHA BAJA CATEGORY</th>\n",
       "      <th>Nº DE DIAS CATEGORY</th>\n",
       "    </tr>\n",
       "    <tr>\n",
       "      <th>ID</th>\n",
       "      <th></th>\n",
       "      <th></th>\n",
       "      <th></th>\n",
       "      <th></th>\n",
       "      <th></th>\n",
       "      <th></th>\n",
       "      <th></th>\n",
       "      <th></th>\n",
       "      <th></th>\n",
       "      <th></th>\n",
       "      <th></th>\n",
       "      <th></th>\n",
       "      <th></th>\n",
       "      <th></th>\n",
       "      <th></th>\n",
       "      <th></th>\n",
       "      <th></th>\n",
       "      <th></th>\n",
       "      <th></th>\n",
       "    </tr>\n",
       "  </thead>\n",
       "  <tbody>\n",
       "    <tr>\n",
       "      <th>4656M</th>\n",
       "      <td>1</td>\n",
       "      <td>5</td>\n",
       "      <td>2</td>\n",
       "      <td>2</td>\n",
       "      <td>16</td>\n",
       "      <td>1</td>\n",
       "      <td>2.0</td>\n",
       "      <td>1.0</td>\n",
       "      <td>2.0</td>\n",
       "      <td>1.0</td>\n",
       "      <td>6.0</td>\n",
       "      <td>7.0</td>\n",
       "      <td>3.0</td>\n",
       "      <td>91.0</td>\n",
       "      <td>1.0</td>\n",
       "      <td>1.0</td>\n",
       "      <td>1.0</td>\n",
       "      <td>2.0</td>\n",
       "      <td>0.0</td>\n",
       "    </tr>\n",
       "    <tr>\n",
       "      <th>0010X</th>\n",
       "      <td>1</td>\n",
       "      <td>5</td>\n",
       "      <td>2</td>\n",
       "      <td>2</td>\n",
       "      <td>16</td>\n",
       "      <td>1</td>\n",
       "      <td>1.0</td>\n",
       "      <td>1.0</td>\n",
       "      <td>2.0</td>\n",
       "      <td>1.0</td>\n",
       "      <td>6.0</td>\n",
       "      <td>7.0</td>\n",
       "      <td>3.0</td>\n",
       "      <td>91.0</td>\n",
       "      <td>1.0</td>\n",
       "      <td>1.0</td>\n",
       "      <td>1.0</td>\n",
       "      <td>2.0</td>\n",
       "      <td>0.0</td>\n",
       "    </tr>\n",
       "    <tr>\n",
       "      <th>0606X</th>\n",
       "      <td>1</td>\n",
       "      <td>5</td>\n",
       "      <td>2</td>\n",
       "      <td>2</td>\n",
       "      <td>16</td>\n",
       "      <td>1</td>\n",
       "      <td>3.0</td>\n",
       "      <td>1.0</td>\n",
       "      <td>1.0</td>\n",
       "      <td>1.0</td>\n",
       "      <td>6.0</td>\n",
       "      <td>7.0</td>\n",
       "      <td>3.0</td>\n",
       "      <td>73.0</td>\n",
       "      <td>1.0</td>\n",
       "      <td>1.0</td>\n",
       "      <td>1.0</td>\n",
       "      <td>2.0</td>\n",
       "      <td>0.0</td>\n",
       "    </tr>\n",
       "    <tr>\n",
       "      <th>7666X</th>\n",
       "      <td>1</td>\n",
       "      <td>5</td>\n",
       "      <td>2</td>\n",
       "      <td>2</td>\n",
       "      <td>16</td>\n",
       "      <td>1</td>\n",
       "      <td>1.0</td>\n",
       "      <td>1.0</td>\n",
       "      <td>2.0</td>\n",
       "      <td>1.0</td>\n",
       "      <td>1.0</td>\n",
       "      <td>7.0</td>\n",
       "      <td>3.0</td>\n",
       "      <td>91.0</td>\n",
       "      <td>1.0</td>\n",
       "      <td>1.0</td>\n",
       "      <td>1.0</td>\n",
       "      <td>2.0</td>\n",
       "      <td>0.0</td>\n",
       "    </tr>\n",
       "    <tr>\n",
       "      <th>8926V</th>\n",
       "      <td>1</td>\n",
       "      <td>5</td>\n",
       "      <td>2</td>\n",
       "      <td>2</td>\n",
       "      <td>16</td>\n",
       "      <td>1</td>\n",
       "      <td>1.0</td>\n",
       "      <td>1.0</td>\n",
       "      <td>2.0</td>\n",
       "      <td>3.0</td>\n",
       "      <td>5.0</td>\n",
       "      <td>7.0</td>\n",
       "      <td>3.0</td>\n",
       "      <td>91.0</td>\n",
       "      <td>1.0</td>\n",
       "      <td>1.0</td>\n",
       "      <td>1.0</td>\n",
       "      <td>2.0</td>\n",
       "      <td>0.0</td>\n",
       "    </tr>\n",
       "    <tr>\n",
       "      <th>...</th>\n",
       "      <td>...</td>\n",
       "      <td>...</td>\n",
       "      <td>...</td>\n",
       "      <td>...</td>\n",
       "      <td>...</td>\n",
       "      <td>...</td>\n",
       "      <td>...</td>\n",
       "      <td>...</td>\n",
       "      <td>...</td>\n",
       "      <td>...</td>\n",
       "      <td>...</td>\n",
       "      <td>...</td>\n",
       "      <td>...</td>\n",
       "      <td>...</td>\n",
       "      <td>...</td>\n",
       "      <td>...</td>\n",
       "      <td>...</td>\n",
       "      <td>...</td>\n",
       "      <td>...</td>\n",
       "    </tr>\n",
       "    <tr>\n",
       "      <th>3588D</th>\n",
       "      <td>1</td>\n",
       "      <td>3</td>\n",
       "      <td>7</td>\n",
       "      <td>1</td>\n",
       "      <td>23</td>\n",
       "      <td>1</td>\n",
       "      <td>1.0</td>\n",
       "      <td>1.0</td>\n",
       "      <td>3.0</td>\n",
       "      <td>1.0</td>\n",
       "      <td>9.0</td>\n",
       "      <td>1.0</td>\n",
       "      <td>3.0</td>\n",
       "      <td>88.0</td>\n",
       "      <td>1.0</td>\n",
       "      <td>1.0</td>\n",
       "      <td>1.0</td>\n",
       "      <td>2.0</td>\n",
       "      <td>0.0</td>\n",
       "    </tr>\n",
       "    <tr>\n",
       "      <th>7254D</th>\n",
       "      <td>2</td>\n",
       "      <td>3</td>\n",
       "      <td>7</td>\n",
       "      <td>1</td>\n",
       "      <td>30</td>\n",
       "      <td>1</td>\n",
       "      <td>2.0</td>\n",
       "      <td>2.0</td>\n",
       "      <td>1.0</td>\n",
       "      <td>1.0</td>\n",
       "      <td>12.0</td>\n",
       "      <td>1.0</td>\n",
       "      <td>3.0</td>\n",
       "      <td>74.0</td>\n",
       "      <td>1.0</td>\n",
       "      <td>1.0</td>\n",
       "      <td>1.0</td>\n",
       "      <td>2.0</td>\n",
       "      <td>0.0</td>\n",
       "    </tr>\n",
       "    <tr>\n",
       "      <th>8565M</th>\n",
       "      <td>2</td>\n",
       "      <td>3</td>\n",
       "      <td>7</td>\n",
       "      <td>1</td>\n",
       "      <td>30</td>\n",
       "      <td>1</td>\n",
       "      <td>1.0</td>\n",
       "      <td>1.0</td>\n",
       "      <td>2.0</td>\n",
       "      <td>1.0</td>\n",
       "      <td>12.0</td>\n",
       "      <td>1.0</td>\n",
       "      <td>3.0</td>\n",
       "      <td>73.0</td>\n",
       "      <td>1.0</td>\n",
       "      <td>1.0</td>\n",
       "      <td>1.0</td>\n",
       "      <td>2.0</td>\n",
       "      <td>0.0</td>\n",
       "    </tr>\n",
       "    <tr>\n",
       "      <th>1328Q</th>\n",
       "      <td>1</td>\n",
       "      <td>5</td>\n",
       "      <td>7</td>\n",
       "      <td>2</td>\n",
       "      <td>18</td>\n",
       "      <td>1</td>\n",
       "      <td>1.0</td>\n",
       "      <td>1.0</td>\n",
       "      <td>3.0</td>\n",
       "      <td>1.0</td>\n",
       "      <td>6.0</td>\n",
       "      <td>7.0</td>\n",
       "      <td>3.0</td>\n",
       "      <td>91.0</td>\n",
       "      <td>1.0</td>\n",
       "      <td>1.0</td>\n",
       "      <td>1.0</td>\n",
       "      <td>2.0</td>\n",
       "      <td>0.0</td>\n",
       "    </tr>\n",
       "    <tr>\n",
       "      <th>0489G</th>\n",
       "      <td>1</td>\n",
       "      <td>2</td>\n",
       "      <td>7</td>\n",
       "      <td>2</td>\n",
       "      <td>20</td>\n",
       "      <td>2</td>\n",
       "      <td>1.0</td>\n",
       "      <td>1.0</td>\n",
       "      <td>2.0</td>\n",
       "      <td>6.0</td>\n",
       "      <td>11.0</td>\n",
       "      <td>4.0</td>\n",
       "      <td>2.0</td>\n",
       "      <td>77.0</td>\n",
       "      <td>1.0</td>\n",
       "      <td>1.0</td>\n",
       "      <td>1.0</td>\n",
       "      <td>2.0</td>\n",
       "      <td>0.0</td>\n",
       "    </tr>\n",
       "  </tbody>\n",
       "</table>\n",
       "<p>143 rows × 19 columns</p>\n",
       "</div>"
      ],
      "text/plain": [
       "       HORAS DE CONTRATO  Categoría  Número de hijos  Sexo   \n",
       "ID                                                           \n",
       "4656M                  1          5                2     2  \\\n",
       "0010X                  1          5                2     2   \n",
       "0606X                  1          5                2     2   \n",
       "7666X                  1          5                2     2   \n",
       "8926V                  1          5                2     2   \n",
       "...                  ...        ...              ...   ...   \n",
       "3588D                  1          3                7     1   \n",
       "7254D                  2          3                7     1   \n",
       "8565M                  2          3                7     1   \n",
       "1328Q                  1          5                7     2   \n",
       "0489G                  1          2                7     2   \n",
       "\n",
       "       Supervisora/Coordinador  Sección  IT/AT  Horas contratadas   \n",
       "ID                                                                  \n",
       "4656M                       16        1    2.0                1.0  \\\n",
       "0010X                       16        1    1.0                1.0   \n",
       "0606X                       16        1    3.0                1.0   \n",
       "7666X                       16        1    1.0                1.0   \n",
       "8926V                       16        1    1.0                1.0   \n",
       "...                        ...      ...    ...                ...   \n",
       "3588D                       23        1    1.0                1.0   \n",
       "7254D                       30        1    2.0                2.0   \n",
       "8565M                       30        1    1.0                1.0   \n",
       "1328Q                       18        1    1.0                1.0   \n",
       "0489G                       20        2    1.0                1.0   \n",
       "\n",
       "       TIPO DE BAJA  Evaluación  Supervisor/a  CATEGORIA  SECCIÓN   \n",
       "ID                                                                  \n",
       "4656M           2.0         1.0           6.0        7.0      3.0  \\\n",
       "0010X           2.0         1.0           6.0        7.0      3.0   \n",
       "0606X           1.0         1.0           6.0        7.0      3.0   \n",
       "7666X           2.0         1.0           1.0        7.0      3.0   \n",
       "8926V           2.0         3.0           5.0        7.0      3.0   \n",
       "...             ...         ...           ...        ...      ...   \n",
       "3588D           3.0         1.0           9.0        1.0      3.0   \n",
       "7254D           1.0         1.0          12.0        1.0      3.0   \n",
       "8565M           2.0         1.0          12.0        1.0      3.0   \n",
       "1328Q           3.0         1.0           6.0        7.0      3.0   \n",
       "0489G           2.0         6.0          11.0        4.0      2.0   \n",
       "\n",
       "       TIENDA/SECCION INICIAL  SECCIÓN2  TIENDA/SECCION FINAL2   \n",
       "ID                                                               \n",
       "4656M                    91.0       1.0                    1.0  \\\n",
       "0010X                    91.0       1.0                    1.0   \n",
       "0606X                    73.0       1.0                    1.0   \n",
       "7666X                    91.0       1.0                    1.0   \n",
       "8926V                    91.0       1.0                    1.0   \n",
       "...                       ...       ...                    ...   \n",
       "3588D                    88.0       1.0                    1.0   \n",
       "7254D                    74.0       1.0                    1.0   \n",
       "8565M                    73.0       1.0                    1.0   \n",
       "1328Q                    91.0       1.0                    1.0   \n",
       "0489G                    77.0       1.0                    1.0   \n",
       "\n",
       "       QUIEN CAUSO BAJA?  FECHA BAJA CATEGORY  Nº DE DIAS CATEGORY  \n",
       "ID                                                                  \n",
       "4656M                1.0                  2.0                  0.0  \n",
       "0010X                1.0                  2.0                  0.0  \n",
       "0606X                1.0                  2.0                  0.0  \n",
       "7666X                1.0                  2.0                  0.0  \n",
       "8926V                1.0                  2.0                  0.0  \n",
       "...                  ...                  ...                  ...  \n",
       "3588D                1.0                  2.0                  0.0  \n",
       "7254D                1.0                  2.0                  0.0  \n",
       "8565M                1.0                  2.0                  0.0  \n",
       "1328Q                1.0                  2.0                  0.0  \n",
       "0489G                1.0                  2.0                  0.0  \n",
       "\n",
       "[143 rows x 19 columns]"
      ]
     },
     "execution_count": 27,
     "metadata": {},
     "output_type": "execute_result"
    }
   ],
   "source": [
    "cluster_0_df"
   ]
  },
  {
   "cell_type": "code",
   "execution_count": 28,
   "id": "3802ee4a",
   "metadata": {},
   "outputs": [
    {
     "name": "stdout",
     "output_type": "stream",
     "text": [
      "Column: HORAS DE CONTRATO\n",
      "HORAS DE CONTRATO\n",
      "2     68\n",
      "1     67\n",
      "6      5\n",
      "11     2\n",
      "15     1\n",
      "Name: count, dtype: int64\n",
      "\n",
      "Column: Categoría\n",
      "Categoría\n",
      "3    121\n",
      "5     17\n",
      "4      4\n",
      "2      1\n",
      "Name: count, dtype: int64\n",
      "\n",
      "Column: Número de hijos\n",
      "Número de hijos\n",
      "2     67\n",
      "7     47\n",
      "3      8\n",
      "9      8\n",
      "8      7\n",
      "1      2\n",
      "10     2\n",
      "6      1\n",
      "5      1\n",
      "Name: count, dtype: int64\n",
      "\n",
      "Column: Sexo\n",
      "Sexo\n",
      "1    123\n",
      "2     20\n",
      "Name: count, dtype: int64\n",
      "\n",
      "Column: Supervisora/Coordinador\n",
      "Supervisora/Coordinador\n",
      "19    48\n",
      "21    36\n",
      "30    12\n",
      "23    11\n",
      "17     9\n",
      "18     8\n",
      "16     6\n",
      "29     4\n",
      "26     3\n",
      "24     2\n",
      "22     1\n",
      "25     1\n",
      "31     1\n",
      "20     1\n",
      "Name: count, dtype: int64\n",
      "\n",
      "Column: Sección\n",
      "Sección\n",
      "1    142\n",
      "2      1\n",
      "Name: count, dtype: int64\n",
      "\n",
      "Column: IT/AT\n",
      "IT/AT\n",
      "1.0    126\n",
      "2.0      9\n",
      "3.0      8\n",
      "Name: count, dtype: int64\n",
      "\n",
      "Column: Horas contratadas\n",
      "Horas contratadas\n",
      "1.0    99\n",
      "2.0    40\n",
      "3.0     4\n",
      "Name: count, dtype: int64\n",
      "\n",
      "Column: TIPO DE BAJA\n",
      "TIPO DE BAJA\n",
      "2.0    96\n",
      "3.0    26\n",
      "1.0    20\n",
      "4.0     1\n",
      "Name: count, dtype: int64\n",
      "\n",
      "Column: Evaluación\n",
      "Evaluación\n",
      "1.0     94\n",
      "3.0     29\n",
      "9.0      5\n",
      "4.0      5\n",
      "5.0      3\n",
      "2.0      3\n",
      "11.0     3\n",
      "6.0      1\n",
      "Name: count, dtype: int64\n",
      "\n",
      "Column: Supervisor/a\n",
      "Supervisor/a\n",
      "9.0     38\n",
      "7.0     32\n",
      "15.0    12\n",
      "8.0     11\n",
      "12.0     9\n",
      "4.0      9\n",
      "6.0      8\n",
      "5.0      7\n",
      "3.0      4\n",
      "1.0      3\n",
      "17.0     3\n",
      "16.0     2\n",
      "13.0     2\n",
      "10.0     1\n",
      "2.0      1\n",
      "11.0     1\n",
      "Name: count, dtype: int64\n",
      "\n",
      "Column: CATEGORIA\n",
      "CATEGORIA\n",
      "1.0    116\n",
      "7.0     20\n",
      "2.0      4\n",
      "5.0      2\n",
      "4.0      1\n",
      "Name: count, dtype: int64\n",
      "\n",
      "Column: SECCIÓN\n",
      "SECCIÓN\n",
      "3.0    134\n",
      "4.0      7\n",
      "5.0      1\n",
      "2.0      1\n",
      "Name: count, dtype: int64\n",
      "\n",
      "Column: TIENDA/SECCION INICIAL\n",
      "TIENDA/SECCION INICIAL\n",
      "91.0     122\n",
      "100.0      5\n",
      "73.0       3\n",
      "94.0       2\n",
      "74.0       2\n",
      "99.0       1\n",
      "102.0      1\n",
      "93.0       1\n",
      "89.0       1\n",
      "92.0       1\n",
      "81.0       1\n",
      "80.0       1\n",
      "88.0       1\n",
      "77.0       1\n",
      "Name: count, dtype: int64\n",
      "\n",
      "Column: SECCIÓN2\n",
      "SECCIÓN2\n",
      "1.0    134\n",
      "2.0      8\n",
      "5.0      1\n",
      "Name: count, dtype: int64\n",
      "\n",
      "Column: TIENDA/SECCION FINAL2\n",
      "TIENDA/SECCION FINAL2\n",
      "1.0     135\n",
      "6.0       3\n",
      "5.0       1\n",
      "7.0       1\n",
      "10.0      1\n",
      "16.0      1\n",
      "17.0      1\n",
      "Name: count, dtype: int64\n",
      "\n",
      "Column: QUIEN CAUSO BAJA?\n",
      "QUIEN CAUSO BAJA?\n",
      "1.0    134\n",
      "2.0      8\n",
      "4.0      1\n",
      "Name: count, dtype: int64\n",
      "\n",
      "Column: FECHA BAJA CATEGORY\n",
      "FECHA BAJA CATEGORY\n",
      "2.0    134\n",
      "1.0      9\n",
      "Name: count, dtype: int64\n",
      "\n",
      "Column: Nº DE DIAS CATEGORY\n",
      "Nº DE DIAS CATEGORY\n",
      "0.0    134\n",
      "5.0      4\n",
      "7.0      3\n",
      "1.0      1\n",
      "4.0      1\n",
      "Name: count, dtype: int64\n",
      "\n"
     ]
    }
   ],
   "source": [
    "value_counts_dict = {}\n",
    "for column in cluster_0_df.columns:\n",
    "    value_counts_dict[column] = cluster_0_df[column].value_counts()\n",
    "\n",
    "for column, value_counts in value_counts_dict.items():\n",
    "    print(f\"Column: {column}\")\n",
    "    print(value_counts)\n",
    "    print()"
   ]
  },
  {
   "cell_type": "code",
   "execution_count": 30,
   "id": "5ff5b7b1",
   "metadata": {},
   "outputs": [
    {
     "data": {
      "text/html": [
       "<div>\n",
       "<style scoped>\n",
       "    .dataframe tbody tr th:only-of-type {\n",
       "        vertical-align: middle;\n",
       "    }\n",
       "\n",
       "    .dataframe tbody tr th {\n",
       "        vertical-align: top;\n",
       "    }\n",
       "\n",
       "    .dataframe thead th {\n",
       "        text-align: right;\n",
       "    }\n",
       "</style>\n",
       "<table border=\"1\" class=\"dataframe\">\n",
       "  <thead>\n",
       "    <tr style=\"text-align: right;\">\n",
       "      <th></th>\n",
       "      <th>HORAS DE CONTRATO</th>\n",
       "      <th>Categoría</th>\n",
       "      <th>Número de hijos</th>\n",
       "      <th>Sexo</th>\n",
       "      <th>Supervisora/Coordinador</th>\n",
       "      <th>Sección</th>\n",
       "      <th>IT/AT</th>\n",
       "      <th>Horas contratadas</th>\n",
       "      <th>TIPO DE BAJA</th>\n",
       "      <th>Evaluación</th>\n",
       "      <th>Supervisor/a</th>\n",
       "      <th>CATEGORIA</th>\n",
       "      <th>SECCIÓN</th>\n",
       "      <th>TIENDA/SECCION INICIAL</th>\n",
       "      <th>SECCIÓN2</th>\n",
       "      <th>TIENDA/SECCION FINAL2</th>\n",
       "      <th>QUIEN CAUSO BAJA?</th>\n",
       "      <th>FECHA BAJA CATEGORY</th>\n",
       "      <th>Nº DE DIAS CATEGORY</th>\n",
       "    </tr>\n",
       "    <tr>\n",
       "      <th>ID</th>\n",
       "      <th></th>\n",
       "      <th></th>\n",
       "      <th></th>\n",
       "      <th></th>\n",
       "      <th></th>\n",
       "      <th></th>\n",
       "      <th></th>\n",
       "      <th></th>\n",
       "      <th></th>\n",
       "      <th></th>\n",
       "      <th></th>\n",
       "      <th></th>\n",
       "      <th></th>\n",
       "      <th></th>\n",
       "      <th></th>\n",
       "      <th></th>\n",
       "      <th></th>\n",
       "      <th></th>\n",
       "      <th></th>\n",
       "    </tr>\n",
       "  </thead>\n",
       "  <tbody>\n",
       "    <tr>\n",
       "      <th>0302A</th>\n",
       "      <td>1</td>\n",
       "      <td>3</td>\n",
       "      <td>2</td>\n",
       "      <td>1</td>\n",
       "      <td>2</td>\n",
       "      <td>1</td>\n",
       "      <td>1.0</td>\n",
       "      <td>1.0</td>\n",
       "      <td>1.0</td>\n",
       "      <td>4.0</td>\n",
       "      <td>4.0</td>\n",
       "      <td>2.0</td>\n",
       "      <td>2.0</td>\n",
       "      <td>4.0</td>\n",
       "      <td>3.0</td>\n",
       "      <td>15.0</td>\n",
       "      <td>2.0</td>\n",
       "      <td>1.0</td>\n",
       "      <td>5.0</td>\n",
       "    </tr>\n",
       "    <tr>\n",
       "      <th>3181P</th>\n",
       "      <td>2</td>\n",
       "      <td>3</td>\n",
       "      <td>7</td>\n",
       "      <td>1</td>\n",
       "      <td>2</td>\n",
       "      <td>1</td>\n",
       "      <td>1.0</td>\n",
       "      <td>1.0</td>\n",
       "      <td>2.0</td>\n",
       "      <td>1.0</td>\n",
       "      <td>14.0</td>\n",
       "      <td>1.0</td>\n",
       "      <td>3.0</td>\n",
       "      <td>23.0</td>\n",
       "      <td>1.0</td>\n",
       "      <td>1.0</td>\n",
       "      <td>1.0</td>\n",
       "      <td>2.0</td>\n",
       "      <td>0.0</td>\n",
       "    </tr>\n",
       "    <tr>\n",
       "      <th>1049R</th>\n",
       "      <td>2</td>\n",
       "      <td>3</td>\n",
       "      <td>9</td>\n",
       "      <td>1</td>\n",
       "      <td>2</td>\n",
       "      <td>1</td>\n",
       "      <td>1.0</td>\n",
       "      <td>1.0</td>\n",
       "      <td>2.0</td>\n",
       "      <td>1.0</td>\n",
       "      <td>9.0</td>\n",
       "      <td>1.0</td>\n",
       "      <td>3.0</td>\n",
       "      <td>24.0</td>\n",
       "      <td>1.0</td>\n",
       "      <td>1.0</td>\n",
       "      <td>1.0</td>\n",
       "      <td>2.0</td>\n",
       "      <td>0.0</td>\n",
       "    </tr>\n",
       "    <tr>\n",
       "      <th>6565V</th>\n",
       "      <td>6</td>\n",
       "      <td>3</td>\n",
       "      <td>7</td>\n",
       "      <td>1</td>\n",
       "      <td>19</td>\n",
       "      <td>1</td>\n",
       "      <td>1.0</td>\n",
       "      <td>1.0</td>\n",
       "      <td>2.0</td>\n",
       "      <td>1.0</td>\n",
       "      <td>17.0</td>\n",
       "      <td>1.0</td>\n",
       "      <td>3.0</td>\n",
       "      <td>10.0</td>\n",
       "      <td>1.0</td>\n",
       "      <td>1.0</td>\n",
       "      <td>1.0</td>\n",
       "      <td>2.0</td>\n",
       "      <td>0.0</td>\n",
       "    </tr>\n",
       "    <tr>\n",
       "      <th>6739A</th>\n",
       "      <td>2</td>\n",
       "      <td>3</td>\n",
       "      <td>7</td>\n",
       "      <td>1</td>\n",
       "      <td>21</td>\n",
       "      <td>1</td>\n",
       "      <td>2.0</td>\n",
       "      <td>2.0</td>\n",
       "      <td>2.0</td>\n",
       "      <td>4.0</td>\n",
       "      <td>3.0</td>\n",
       "      <td>1.0</td>\n",
       "      <td>3.0</td>\n",
       "      <td>30.0</td>\n",
       "      <td>1.0</td>\n",
       "      <td>1.0</td>\n",
       "      <td>1.0</td>\n",
       "      <td>2.0</td>\n",
       "      <td>0.0</td>\n",
       "    </tr>\n",
       "    <tr>\n",
       "      <th>...</th>\n",
       "      <td>...</td>\n",
       "      <td>...</td>\n",
       "      <td>...</td>\n",
       "      <td>...</td>\n",
       "      <td>...</td>\n",
       "      <td>...</td>\n",
       "      <td>...</td>\n",
       "      <td>...</td>\n",
       "      <td>...</td>\n",
       "      <td>...</td>\n",
       "      <td>...</td>\n",
       "      <td>...</td>\n",
       "      <td>...</td>\n",
       "      <td>...</td>\n",
       "      <td>...</td>\n",
       "      <td>...</td>\n",
       "      <td>...</td>\n",
       "      <td>...</td>\n",
       "      <td>...</td>\n",
       "    </tr>\n",
       "    <tr>\n",
       "      <th>6548T</th>\n",
       "      <td>6</td>\n",
       "      <td>3</td>\n",
       "      <td>7</td>\n",
       "      <td>1</td>\n",
       "      <td>30</td>\n",
       "      <td>1</td>\n",
       "      <td>1.0</td>\n",
       "      <td>1.0</td>\n",
       "      <td>2.0</td>\n",
       "      <td>1.0</td>\n",
       "      <td>1.0</td>\n",
       "      <td>1.0</td>\n",
       "      <td>3.0</td>\n",
       "      <td>16.0</td>\n",
       "      <td>1.0</td>\n",
       "      <td>1.0</td>\n",
       "      <td>1.0</td>\n",
       "      <td>2.0</td>\n",
       "      <td>0.0</td>\n",
       "    </tr>\n",
       "    <tr>\n",
       "      <th>6485K</th>\n",
       "      <td>3</td>\n",
       "      <td>3</td>\n",
       "      <td>7</td>\n",
       "      <td>1</td>\n",
       "      <td>11</td>\n",
       "      <td>1</td>\n",
       "      <td>1.0</td>\n",
       "      <td>7.0</td>\n",
       "      <td>2.0</td>\n",
       "      <td>1.0</td>\n",
       "      <td>2.0</td>\n",
       "      <td>1.0</td>\n",
       "      <td>3.0</td>\n",
       "      <td>21.0</td>\n",
       "      <td>1.0</td>\n",
       "      <td>1.0</td>\n",
       "      <td>1.0</td>\n",
       "      <td>2.0</td>\n",
       "      <td>0.0</td>\n",
       "    </tr>\n",
       "    <tr>\n",
       "      <th>6010V</th>\n",
       "      <td>6</td>\n",
       "      <td>3</td>\n",
       "      <td>7</td>\n",
       "      <td>1</td>\n",
       "      <td>30</td>\n",
       "      <td>1</td>\n",
       "      <td>1.0</td>\n",
       "      <td>3.0</td>\n",
       "      <td>2.0</td>\n",
       "      <td>11.0</td>\n",
       "      <td>17.0</td>\n",
       "      <td>1.0</td>\n",
       "      <td>3.0</td>\n",
       "      <td>29.0</td>\n",
       "      <td>1.0</td>\n",
       "      <td>1.0</td>\n",
       "      <td>1.0</td>\n",
       "      <td>2.0</td>\n",
       "      <td>0.0</td>\n",
       "    </tr>\n",
       "    <tr>\n",
       "      <th>7981W</th>\n",
       "      <td>2</td>\n",
       "      <td>3</td>\n",
       "      <td>7</td>\n",
       "      <td>1</td>\n",
       "      <td>26</td>\n",
       "      <td>1</td>\n",
       "      <td>1.0</td>\n",
       "      <td>2.0</td>\n",
       "      <td>2.0</td>\n",
       "      <td>1.0</td>\n",
       "      <td>8.0</td>\n",
       "      <td>1.0</td>\n",
       "      <td>3.0</td>\n",
       "      <td>8.0</td>\n",
       "      <td>1.0</td>\n",
       "      <td>1.0</td>\n",
       "      <td>1.0</td>\n",
       "      <td>2.0</td>\n",
       "      <td>0.0</td>\n",
       "    </tr>\n",
       "    <tr>\n",
       "      <th>5673Z</th>\n",
       "      <td>2</td>\n",
       "      <td>3</td>\n",
       "      <td>7</td>\n",
       "      <td>1</td>\n",
       "      <td>26</td>\n",
       "      <td>1</td>\n",
       "      <td>1.0</td>\n",
       "      <td>2.0</td>\n",
       "      <td>2.0</td>\n",
       "      <td>2.0</td>\n",
       "      <td>8.0</td>\n",
       "      <td>1.0</td>\n",
       "      <td>3.0</td>\n",
       "      <td>32.0</td>\n",
       "      <td>1.0</td>\n",
       "      <td>1.0</td>\n",
       "      <td>1.0</td>\n",
       "      <td>2.0</td>\n",
       "      <td>0.0</td>\n",
       "    </tr>\n",
       "  </tbody>\n",
       "</table>\n",
       "<p>83 rows × 19 columns</p>\n",
       "</div>"
      ],
      "text/plain": [
       "       HORAS DE CONTRATO  Categoría  Número de hijos  Sexo   \n",
       "ID                                                           \n",
       "0302A                  1          3                2     1  \\\n",
       "3181P                  2          3                7     1   \n",
       "1049R                  2          3                9     1   \n",
       "6565V                  6          3                7     1   \n",
       "6739A                  2          3                7     1   \n",
       "...                  ...        ...              ...   ...   \n",
       "6548T                  6          3                7     1   \n",
       "6485K                  3          3                7     1   \n",
       "6010V                  6          3                7     1   \n",
       "7981W                  2          3                7     1   \n",
       "5673Z                  2          3                7     1   \n",
       "\n",
       "       Supervisora/Coordinador  Sección  IT/AT  Horas contratadas   \n",
       "ID                                                                  \n",
       "0302A                        2        1    1.0                1.0  \\\n",
       "3181P                        2        1    1.0                1.0   \n",
       "1049R                        2        1    1.0                1.0   \n",
       "6565V                       19        1    1.0                1.0   \n",
       "6739A                       21        1    2.0                2.0   \n",
       "...                        ...      ...    ...                ...   \n",
       "6548T                       30        1    1.0                1.0   \n",
       "6485K                       11        1    1.0                7.0   \n",
       "6010V                       30        1    1.0                3.0   \n",
       "7981W                       26        1    1.0                2.0   \n",
       "5673Z                       26        1    1.0                2.0   \n",
       "\n",
       "       TIPO DE BAJA  Evaluación  Supervisor/a  CATEGORIA  SECCIÓN   \n",
       "ID                                                                  \n",
       "0302A           1.0         4.0           4.0        2.0      2.0  \\\n",
       "3181P           2.0         1.0          14.0        1.0      3.0   \n",
       "1049R           2.0         1.0           9.0        1.0      3.0   \n",
       "6565V           2.0         1.0          17.0        1.0      3.0   \n",
       "6739A           2.0         4.0           3.0        1.0      3.0   \n",
       "...             ...         ...           ...        ...      ...   \n",
       "6548T           2.0         1.0           1.0        1.0      3.0   \n",
       "6485K           2.0         1.0           2.0        1.0      3.0   \n",
       "6010V           2.0        11.0          17.0        1.0      3.0   \n",
       "7981W           2.0         1.0           8.0        1.0      3.0   \n",
       "5673Z           2.0         2.0           8.0        1.0      3.0   \n",
       "\n",
       "       TIENDA/SECCION INICIAL  SECCIÓN2  TIENDA/SECCION FINAL2   \n",
       "ID                                                               \n",
       "0302A                     4.0       3.0                   15.0  \\\n",
       "3181P                    23.0       1.0                    1.0   \n",
       "1049R                    24.0       1.0                    1.0   \n",
       "6565V                    10.0       1.0                    1.0   \n",
       "6739A                    30.0       1.0                    1.0   \n",
       "...                       ...       ...                    ...   \n",
       "6548T                    16.0       1.0                    1.0   \n",
       "6485K                    21.0       1.0                    1.0   \n",
       "6010V                    29.0       1.0                    1.0   \n",
       "7981W                     8.0       1.0                    1.0   \n",
       "5673Z                    32.0       1.0                    1.0   \n",
       "\n",
       "       QUIEN CAUSO BAJA?  FECHA BAJA CATEGORY  Nº DE DIAS CATEGORY  \n",
       "ID                                                                  \n",
       "0302A                2.0                  1.0                  5.0  \n",
       "3181P                1.0                  2.0                  0.0  \n",
       "1049R                1.0                  2.0                  0.0  \n",
       "6565V                1.0                  2.0                  0.0  \n",
       "6739A                1.0                  2.0                  0.0  \n",
       "...                  ...                  ...                  ...  \n",
       "6548T                1.0                  2.0                  0.0  \n",
       "6485K                1.0                  2.0                  0.0  \n",
       "6010V                1.0                  2.0                  0.0  \n",
       "7981W                1.0                  2.0                  0.0  \n",
       "5673Z                1.0                  2.0                  0.0  \n",
       "\n",
       "[83 rows x 19 columns]"
      ]
     },
     "execution_count": 30,
     "metadata": {},
     "output_type": "execute_result"
    }
   ],
   "source": [
    "cluster_1_df"
   ]
  },
  {
   "cell_type": "code",
   "execution_count": 31,
   "id": "de3c91b1",
   "metadata": {},
   "outputs": [
    {
     "name": "stdout",
     "output_type": "stream",
     "text": [
      "Column: HORAS DE CONTRATO\n",
      "HORAS DE CONTRATO\n",
      "2     66\n",
      "6      8\n",
      "1      5\n",
      "3      2\n",
      "11     1\n",
      "16     1\n",
      "Name: count, dtype: int64\n",
      "\n",
      "Column: Categoría\n",
      "Categoría\n",
      "3    83\n",
      "Name: count, dtype: int64\n",
      "\n",
      "Column: Número de hijos\n",
      "Número de hijos\n",
      "7     63\n",
      "9     12\n",
      "8      4\n",
      "10     2\n",
      "2      1\n",
      "11     1\n",
      "Name: count, dtype: int64\n",
      "\n",
      "Column: Sexo\n",
      "Sexo\n",
      "1    81\n",
      "2     2\n",
      "Name: count, dtype: int64\n",
      "\n",
      "Column: Supervisora/Coordinador\n",
      "Supervisora/Coordinador\n",
      "21    17\n",
      "30    11\n",
      "24    10\n",
      "29    10\n",
      "26    10\n",
      "6      8\n",
      "11     7\n",
      "2      4\n",
      "23     3\n",
      "19     2\n",
      "25     1\n",
      "Name: count, dtype: int64\n",
      "\n",
      "Column: Sección\n",
      "Sección\n",
      "1    83\n",
      "Name: count, dtype: int64\n",
      "\n",
      "Column: IT/AT\n",
      "IT/AT\n",
      "1.0    77\n",
      "2.0     6\n",
      "Name: count, dtype: int64\n",
      "\n",
      "Column: Horas contratadas\n",
      "Horas contratadas\n",
      "2.0     53\n",
      "1.0     24\n",
      "3.0      3\n",
      "5.0      1\n",
      "10.0     1\n",
      "7.0      1\n",
      "Name: count, dtype: int64\n",
      "\n",
      "Column: TIPO DE BAJA\n",
      "TIPO DE BAJA\n",
      "2.0    65\n",
      "1.0    12\n",
      "3.0     4\n",
      "4.0     2\n",
      "Name: count, dtype: int64\n",
      "\n",
      "Column: Evaluación\n",
      "Evaluación\n",
      "1.0     56\n",
      "3.0     14\n",
      "2.0      4\n",
      "4.0      3\n",
      "11.0     2\n",
      "10.0     2\n",
      "8.0      1\n",
      "6.0      1\n",
      "Name: count, dtype: int64\n",
      "\n",
      "Column: Supervisor/a\n",
      "Supervisor/a\n",
      "7.0     17\n",
      "2.0     14\n",
      "3.0      8\n",
      "8.0      8\n",
      "18.0     6\n",
      "9.0      5\n",
      "17.0     5\n",
      "10.0     5\n",
      "4.0      3\n",
      "5.0      3\n",
      "13.0     2\n",
      "15.0     2\n",
      "1.0      2\n",
      "14.0     1\n",
      "16.0     1\n",
      "20.0     1\n",
      "Name: count, dtype: int64\n",
      "\n",
      "Column: CATEGORIA\n",
      "CATEGORIA\n",
      "1.0    82\n",
      "2.0     1\n",
      "Name: count, dtype: int64\n",
      "\n",
      "Column: SECCIÓN\n",
      "SECCIÓN\n",
      "3.0    82\n",
      "2.0     1\n",
      "Name: count, dtype: int64\n",
      "\n",
      "Column: TIENDA/SECCION INICIAL\n",
      "TIENDA/SECCION INICIAL\n",
      "37.0    7\n",
      "8.0     7\n",
      "10.0    7\n",
      "16.0    6\n",
      "29.0    5\n",
      "33.0    5\n",
      "19.0    5\n",
      "13.0    4\n",
      "23.0    4\n",
      "22.0    4\n",
      "34.0    3\n",
      "26.0    3\n",
      "28.0    3\n",
      "1.0     3\n",
      "32.0    2\n",
      "21.0    2\n",
      "11.0    2\n",
      "6.0     2\n",
      "31.0    1\n",
      "38.0    1\n",
      "25.0    1\n",
      "4.0     1\n",
      "15.0    1\n",
      "27.0    1\n",
      "30.0    1\n",
      "24.0    1\n",
      "18.0    1\n",
      "Name: count, dtype: int64\n",
      "\n",
      "Column: SECCIÓN2\n",
      "SECCIÓN2\n",
      "1.0    72\n",
      "2.0    10\n",
      "3.0     1\n",
      "Name: count, dtype: int64\n",
      "\n",
      "Column: TIENDA/SECCION FINAL2\n",
      "TIENDA/SECCION FINAL2\n",
      "1.0     72\n",
      "10.0     2\n",
      "15.0     1\n",
      "5.0      1\n",
      "9.0      1\n",
      "25.0     1\n",
      "22.0     1\n",
      "21.0     1\n",
      "28.0     1\n",
      "27.0     1\n",
      "17.0     1\n",
      "Name: count, dtype: int64\n",
      "\n",
      "Column: QUIEN CAUSO BAJA?\n",
      "QUIEN CAUSO BAJA?\n",
      "1.0    72\n",
      "3.0     6\n",
      "2.0     5\n",
      "Name: count, dtype: int64\n",
      "\n",
      "Column: FECHA BAJA CATEGORY\n",
      "FECHA BAJA CATEGORY\n",
      "2.0    72\n",
      "1.0    11\n",
      "Name: count, dtype: int64\n",
      "\n",
      "Column: Nº DE DIAS CATEGORY\n",
      "Nº DE DIAS CATEGORY\n",
      "0.0    72\n",
      "1.0     4\n",
      "5.0     3\n",
      "2.0     3\n",
      "4.0     1\n",
      "Name: count, dtype: int64\n",
      "\n"
     ]
    }
   ],
   "source": [
    "value_counts_dict = {}\n",
    "for column in cluster_1_df.columns:\n",
    "    value_counts_dict[column] = cluster_1_df[column].value_counts()\n",
    "\n",
    "for column, value_counts in value_counts_dict.items():\n",
    "    print(f\"Column: {column}\")\n",
    "    print(value_counts)\n",
    "    print()"
   ]
  },
  {
   "cell_type": "code",
   "execution_count": 37,
   "id": "88831449",
   "metadata": {},
   "outputs": [
    {
     "name": "stdout",
     "output_type": "stream",
     "text": [
      "Column: HORAS DE CONTRATO\n",
      "HORAS DE CONTRATO\n",
      "2     56\n",
      "6      8\n",
      "1      4\n",
      "3      2\n",
      "11     1\n",
      "16     1\n",
      "Name: count, dtype: int64\n",
      "\n",
      "Column: Categoría\n",
      "Categoría\n",
      "3    72\n",
      "Name: count, dtype: int64\n",
      "\n",
      "Column: Número de hijos\n",
      "Número de hijos\n",
      "7     54\n",
      "9     11\n",
      "8      4\n",
      "10     2\n",
      "2      1\n",
      "Name: count, dtype: int64\n",
      "\n",
      "Column: Sexo\n",
      "Sexo\n",
      "1    71\n",
      "2     1\n",
      "Name: count, dtype: int64\n",
      "\n",
      "Column: Supervisora/Coordinador\n",
      "Supervisora/Coordinador\n",
      "21    13\n",
      "30    11\n",
      "24    10\n",
      "26    10\n",
      "29     9\n",
      "6      5\n",
      "11     5\n",
      "2      4\n",
      "19     2\n",
      "23     2\n",
      "25     1\n",
      "Name: count, dtype: int64\n",
      "\n",
      "Column: Sección\n",
      "Sección\n",
      "1    72\n",
      "Name: count, dtype: int64\n",
      "\n",
      "Column: IT/AT\n",
      "IT/AT\n",
      "1.0    67\n",
      "2.0     5\n",
      "Name: count, dtype: int64\n",
      "\n",
      "Column: Horas contratadas\n",
      "Horas contratadas\n",
      "2.0     46\n",
      "1.0     20\n",
      "3.0      3\n",
      "5.0      1\n",
      "10.0     1\n",
      "7.0      1\n",
      "Name: count, dtype: int64\n",
      "\n",
      "Column: TIPO DE BAJA\n",
      "TIPO DE BAJA\n",
      "2.0    59\n",
      "1.0     8\n",
      "3.0     3\n",
      "4.0     2\n",
      "Name: count, dtype: int64\n",
      "\n",
      "Column: Evaluación\n",
      "Evaluación\n",
      "1.0     48\n",
      "3.0     12\n",
      "2.0      4\n",
      "4.0      2\n",
      "11.0     2\n",
      "10.0     2\n",
      "8.0      1\n",
      "6.0      1\n",
      "Name: count, dtype: int64\n",
      "\n",
      "Column: Supervisor/a\n",
      "Supervisor/a\n",
      "7.0     15\n",
      "3.0      8\n",
      "2.0      8\n",
      "8.0      8\n",
      "18.0     6\n",
      "9.0      5\n",
      "17.0     5\n",
      "10.0     5\n",
      "4.0      3\n",
      "15.0     2\n",
      "5.0      2\n",
      "1.0      2\n",
      "14.0     1\n",
      "16.0     1\n",
      "20.0     1\n",
      "Name: count, dtype: int64\n",
      "\n",
      "Column: CATEGORIA\n",
      "CATEGORIA\n",
      "1.0    71\n",
      "2.0     1\n",
      "Name: count, dtype: int64\n",
      "\n",
      "Column: SECCIÓN\n",
      "SECCIÓN\n",
      "3.0    71\n",
      "2.0     1\n",
      "Name: count, dtype: int64\n",
      "\n",
      "Column: TIENDA/SECCION INICIAL\n",
      "TIENDA/SECCION INICIAL\n",
      "10.0    7\n",
      "8.0     7\n",
      "16.0    6\n",
      "19.0    5\n",
      "33.0    5\n",
      "29.0    5\n",
      "13.0    4\n",
      "22.0    4\n",
      "23.0    4\n",
      "26.0    3\n",
      "28.0    3\n",
      "1.0     3\n",
      "6.0     2\n",
      "11.0    2\n",
      "32.0    2\n",
      "21.0    2\n",
      "31.0    1\n",
      "25.0    1\n",
      "4.0     1\n",
      "15.0    1\n",
      "27.0    1\n",
      "30.0    1\n",
      "24.0    1\n",
      "18.0    1\n",
      "Name: count, dtype: int64\n",
      "\n",
      "Column: SECCIÓN2\n",
      "SECCIÓN2\n",
      "1.0    61\n",
      "2.0    10\n",
      "3.0     1\n",
      "Name: count, dtype: int64\n",
      "\n",
      "Column: TIENDA/SECCION FINAL2\n",
      "TIENDA/SECCION FINAL2\n",
      "1.0     61\n",
      "10.0     2\n",
      "15.0     1\n",
      "5.0      1\n",
      "9.0      1\n",
      "25.0     1\n",
      "22.0     1\n",
      "21.0     1\n",
      "28.0     1\n",
      "27.0     1\n",
      "17.0     1\n",
      "Name: count, dtype: int64\n",
      "\n",
      "Column: QUIEN CAUSO BAJA?\n",
      "QUIEN CAUSO BAJA?\n",
      "1.0    61\n",
      "3.0     6\n",
      "2.0     5\n",
      "Name: count, dtype: int64\n",
      "\n",
      "Column: FECHA BAJA CATEGORY\n",
      "FECHA BAJA CATEGORY\n",
      "2.0    61\n",
      "1.0    11\n",
      "Name: count, dtype: int64\n",
      "\n",
      "Column: Nº DE DIAS CATEGORY\n",
      "Nº DE DIAS CATEGORY\n",
      "0.0    61\n",
      "1.0     4\n",
      "5.0     3\n",
      "2.0     3\n",
      "4.0     1\n",
      "Name: count, dtype: int64\n",
      "\n"
     ]
    }
   ],
   "source": [
    "value_counts_dict = {}\n",
    "for column in cluster_2_df.columns:\n",
    "    value_counts_dict[column] = cluster_2_df[column].value_counts()\n",
    "\n",
    "for column, value_counts in value_counts_dict.items():\n",
    "    print(f\"Column: {column}\")\n",
    "    print(value_counts)\n",
    "    print()"
   ]
  },
  {
   "cell_type": "code",
   "execution_count": 38,
   "id": "024a807f",
   "metadata": {},
   "outputs": [
    {
     "name": "stdout",
     "output_type": "stream",
     "text": [
      "Column: HORAS DE CONTRATO\n",
      "HORAS DE CONTRATO\n",
      "2     34\n",
      "1      5\n",
      "6      2\n",
      "11     1\n",
      "Name: count, dtype: int64\n",
      "\n",
      "Column: Categoría\n",
      "Categoría\n",
      "3    39\n",
      "4     3\n",
      "Name: count, dtype: int64\n",
      "\n",
      "Column: Número de hijos\n",
      "Número de hijos\n",
      "7     35\n",
      "8      3\n",
      "9      2\n",
      "2      1\n",
      "10     1\n",
      "Name: count, dtype: int64\n",
      "\n",
      "Column: Sexo\n",
      "Sexo\n",
      "1    38\n",
      "2     4\n",
      "Name: count, dtype: int64\n",
      "\n",
      "Column: Supervisora/Coordinador\n",
      "Supervisora/Coordinador\n",
      "11    17\n",
      "6      5\n",
      "21     4\n",
      "29     4\n",
      "23     4\n",
      "25     3\n",
      "19     1\n",
      "16     1\n",
      "31     1\n",
      "30     1\n",
      "26     1\n",
      "Name: count, dtype: int64\n",
      "\n",
      "Column: Sección\n",
      "Sección\n",
      "1    42\n",
      "Name: count, dtype: int64\n",
      "\n",
      "Column: IT/AT\n",
      "IT/AT\n",
      "1.0    40\n",
      "2.0     2\n",
      "Name: count, dtype: int64\n",
      "\n",
      "Column: Horas contratadas\n",
      "Horas contratadas\n",
      "2.0     28\n",
      "1.0     11\n",
      "6.0      1\n",
      "3.0      1\n",
      "10.0     1\n",
      "Name: count, dtype: int64\n",
      "\n",
      "Column: TIPO DE BAJA\n",
      "TIPO DE BAJA\n",
      "2.0    34\n",
      "3.0     5\n",
      "1.0     2\n",
      "4.0     1\n",
      "Name: count, dtype: int64\n",
      "\n",
      "Column: Evaluación\n",
      "Evaluación\n",
      "1.0     29\n",
      "3.0      8\n",
      "10.0     3\n",
      "2.0      1\n",
      "6.0      1\n",
      "Name: count, dtype: int64\n",
      "\n",
      "Column: Supervisor/a\n",
      "Supervisor/a\n",
      "3.0     14\n",
      "2.0      8\n",
      "9.0      5\n",
      "7.0      3\n",
      "8.0      3\n",
      "16.0     3\n",
      "6.0      1\n",
      "4.0      1\n",
      "15.0     1\n",
      "21.0     1\n",
      "17.0     1\n",
      "18.0     1\n",
      "Name: count, dtype: int64\n",
      "\n",
      "Column: CATEGORIA\n",
      "CATEGORIA\n",
      "1.0    39\n",
      "2.0     2\n",
      "7.0     1\n",
      "Name: count, dtype: int64\n",
      "\n",
      "Column: SECCIÓN\n",
      "SECCIÓN\n",
      "3.0    42\n",
      "Name: count, dtype: int64\n",
      "\n",
      "Column: TIENDA/SECCION INICIAL\n",
      "TIENDA/SECCION INICIAL\n",
      "42.0    3\n",
      "9.0     3\n",
      "49.0    3\n",
      "25.0    2\n",
      "29.0    2\n",
      "10.0    2\n",
      "28.0    2\n",
      "26.0    2\n",
      "33.0    2\n",
      "34.0    2\n",
      "6.0     2\n",
      "38.0    2\n",
      "13.0    2\n",
      "54.0    2\n",
      "50.0    1\n",
      "14.0    1\n",
      "12.0    1\n",
      "31.0    1\n",
      "36.0    1\n",
      "21.0    1\n",
      "37.0    1\n",
      "8.0     1\n",
      "45.0    1\n",
      "30.0    1\n",
      "43.0    1\n",
      "Name: count, dtype: int64\n",
      "\n",
      "Column: SECCIÓN2\n",
      "SECCIÓN2\n",
      "2.0    42\n",
      "Name: count, dtype: int64\n",
      "\n",
      "Column: TIENDA/SECCION FINAL2\n",
      "TIENDA/SECCION FINAL2\n",
      "44.0    5\n",
      "34.0    3\n",
      "41.0    3\n",
      "36.0    3\n",
      "78.0    3\n",
      "62.0    2\n",
      "67.0    2\n",
      "48.0    2\n",
      "37.0    2\n",
      "64.0    1\n",
      "58.0    1\n",
      "50.0    1\n",
      "57.0    1\n",
      "68.0    1\n",
      "61.0    1\n",
      "42.0    1\n",
      "74.0    1\n",
      "32.0    1\n",
      "33.0    1\n",
      "70.0    1\n",
      "60.0    1\n",
      "84.0    1\n",
      "52.0    1\n",
      "29.0    1\n",
      "49.0    1\n",
      "46.0    1\n",
      "Name: count, dtype: int64\n",
      "\n",
      "Column: QUIEN CAUSO BAJA?\n",
      "QUIEN CAUSO BAJA?\n",
      "2.0    30\n",
      "3.0    12\n",
      "Name: count, dtype: int64\n",
      "\n",
      "Column: FECHA BAJA CATEGORY\n",
      "FECHA BAJA CATEGORY\n",
      "1.0    42\n",
      "Name: count, dtype: int64\n",
      "\n",
      "Column: Nº DE DIAS CATEGORY\n",
      "Nº DE DIAS CATEGORY\n",
      "4.0    14\n",
      "2.0    12\n",
      "5.0     7\n",
      "3.0     4\n",
      "1.0     4\n",
      "7.0     1\n",
      "Name: count, dtype: int64\n",
      "\n"
     ]
    }
   ],
   "source": [
    "value_counts_dict = {}\n",
    "for column in cluster_3_df.columns:\n",
    "    value_counts_dict[column] = cluster_3_df[column].value_counts()\n",
    "\n",
    "for column, value_counts in value_counts_dict.items():\n",
    "    print(f\"Column: {column}\")\n",
    "    print(value_counts)\n",
    "    print()"
   ]
  },
  {
   "cell_type": "code",
   "execution_count": 39,
   "id": "057f4b86",
   "metadata": {},
   "outputs": [
    {
     "name": "stdout",
     "output_type": "stream",
     "text": [
      "Column: HORAS DE CONTRATO\n",
      "HORAS DE CONTRATO\n",
      "2     59\n",
      "6      8\n",
      "1      4\n",
      "3      2\n",
      "11     1\n",
      "16     1\n",
      "Name: count, dtype: int64\n",
      "\n",
      "Column: Categoría\n",
      "Categoría\n",
      "3    75\n",
      "Name: count, dtype: int64\n",
      "\n",
      "Column: Número de hijos\n",
      "Número de hijos\n",
      "7     56\n",
      "9     12\n",
      "8      4\n",
      "10     2\n",
      "2      1\n",
      "Name: count, dtype: int64\n",
      "\n",
      "Column: Sexo\n",
      "Sexo\n",
      "1    74\n",
      "2     1\n",
      "Name: count, dtype: int64\n",
      "\n",
      "Column: Supervisora/Coordinador\n",
      "Supervisora/Coordinador\n",
      "21    13\n",
      "30    11\n",
      "24    10\n",
      "26    10\n",
      "29     9\n",
      "11     7\n",
      "6      6\n",
      "2      4\n",
      "19     2\n",
      "23     2\n",
      "25     1\n",
      "Name: count, dtype: int64\n",
      "\n",
      "Column: Sección\n",
      "Sección\n",
      "1    75\n",
      "Name: count, dtype: int64\n",
      "\n",
      "Column: IT/AT\n",
      "IT/AT\n",
      "1.0    70\n",
      "2.0     5\n",
      "Name: count, dtype: int64\n",
      "\n",
      "Column: Horas contratadas\n",
      "Horas contratadas\n",
      "2.0     47\n",
      "1.0     22\n",
      "3.0      3\n",
      "5.0      1\n",
      "10.0     1\n",
      "7.0      1\n",
      "Name: count, dtype: int64\n",
      "\n",
      "Column: TIPO DE BAJA\n",
      "TIPO DE BAJA\n",
      "2.0    60\n",
      "1.0     9\n",
      "3.0     4\n",
      "4.0     2\n",
      "Name: count, dtype: int64\n",
      "\n",
      "Column: Evaluación\n",
      "Evaluación\n",
      "1.0     50\n",
      "3.0     13\n",
      "2.0      4\n",
      "4.0      2\n",
      "11.0     2\n",
      "10.0     2\n",
      "8.0      1\n",
      "6.0      1\n",
      "Name: count, dtype: int64\n",
      "\n",
      "Column: Supervisor/a\n",
      "Supervisor/a\n",
      "7.0     15\n",
      "2.0     10\n",
      "3.0      8\n",
      "8.0      8\n",
      "18.0     6\n",
      "9.0      5\n",
      "17.0     5\n",
      "10.0     5\n",
      "4.0      3\n",
      "5.0      3\n",
      "15.0     2\n",
      "1.0      2\n",
      "14.0     1\n",
      "16.0     1\n",
      "20.0     1\n",
      "Name: count, dtype: int64\n",
      "\n",
      "Column: CATEGORIA\n",
      "CATEGORIA\n",
      "1.0    74\n",
      "2.0     1\n",
      "Name: count, dtype: int64\n",
      "\n",
      "Column: SECCIÓN\n",
      "SECCIÓN\n",
      "3.0    74\n",
      "2.0     1\n",
      "Name: count, dtype: int64\n",
      "\n",
      "Column: TIENDA/SECCION INICIAL\n",
      "TIENDA/SECCION INICIAL\n",
      "8.0     7\n",
      "10.0    7\n",
      "16.0    6\n",
      "29.0    5\n",
      "19.0    5\n",
      "33.0    5\n",
      "13.0    4\n",
      "23.0    4\n",
      "22.0    4\n",
      "34.0    3\n",
      "26.0    3\n",
      "28.0    3\n",
      "1.0     3\n",
      "32.0    2\n",
      "6.0     2\n",
      "11.0    2\n",
      "21.0    2\n",
      "31.0    1\n",
      "25.0    1\n",
      "4.0     1\n",
      "15.0    1\n",
      "27.0    1\n",
      "30.0    1\n",
      "24.0    1\n",
      "18.0    1\n",
      "Name: count, dtype: int64\n",
      "\n",
      "Column: SECCIÓN2\n",
      "SECCIÓN2\n",
      "1.0    64\n",
      "2.0    10\n",
      "3.0     1\n",
      "Name: count, dtype: int64\n",
      "\n",
      "Column: TIENDA/SECCION FINAL2\n",
      "TIENDA/SECCION FINAL2\n",
      "1.0     64\n",
      "10.0     2\n",
      "15.0     1\n",
      "5.0      1\n",
      "9.0      1\n",
      "25.0     1\n",
      "22.0     1\n",
      "21.0     1\n",
      "28.0     1\n",
      "27.0     1\n",
      "17.0     1\n",
      "Name: count, dtype: int64\n",
      "\n",
      "Column: QUIEN CAUSO BAJA?\n",
      "QUIEN CAUSO BAJA?\n",
      "1.0    64\n",
      "3.0     6\n",
      "2.0     5\n",
      "Name: count, dtype: int64\n",
      "\n",
      "Column: FECHA BAJA CATEGORY\n",
      "FECHA BAJA CATEGORY\n",
      "2.0    64\n",
      "1.0    11\n",
      "Name: count, dtype: int64\n",
      "\n",
      "Column: Nº DE DIAS CATEGORY\n",
      "Nº DE DIAS CATEGORY\n",
      "0.0    64\n",
      "1.0     4\n",
      "5.0     3\n",
      "2.0     3\n",
      "4.0     1\n",
      "Name: count, dtype: int64\n",
      "\n"
     ]
    }
   ],
   "source": [
    "value_counts_dict = {}\n",
    "for column in cluster_4_df.columns:\n",
    "    value_counts_dict[column] = cluster_4_df[column].value_counts()\n",
    "\n",
    "for column, value_counts in value_counts_dict.items():\n",
    "    print(f\"Column: {column}\")\n",
    "    print(value_counts)\n",
    "    print()"
   ]
  },
  {
   "cell_type": "code",
   "execution_count": 40,
   "id": "55601fd2",
   "metadata": {},
   "outputs": [
    {
     "name": "stdout",
     "output_type": "stream",
     "text": [
      "Column: HORAS DE CONTRATO\n",
      "HORAS DE CONTRATO\n",
      "2     54\n",
      "1      5\n",
      "6      4\n",
      "3      2\n",
      "11     1\n",
      "Name: count, dtype: int64\n",
      "\n",
      "Column: Categoría\n",
      "Categoría\n",
      "3    63\n",
      "4     3\n",
      "Name: count, dtype: int64\n",
      "\n",
      "Column: Número de hijos\n",
      "Número de hijos\n",
      "7     56\n",
      "8      6\n",
      "9      2\n",
      "2      1\n",
      "11     1\n",
      "Name: count, dtype: int64\n",
      "\n",
      "Column: Sexo\n",
      "Sexo\n",
      "1    60\n",
      "2     6\n",
      "Name: count, dtype: int64\n",
      "\n",
      "Column: Supervisora/Coordinador\n",
      "Supervisora/Coordinador\n",
      "21    13\n",
      "11    10\n",
      "23     8\n",
      "6      6\n",
      "29     6\n",
      "26     6\n",
      "24     4\n",
      "2      3\n",
      "30     3\n",
      "19     2\n",
      "17     2\n",
      "10     1\n",
      "18     1\n",
      "25     1\n",
      "Name: count, dtype: int64\n",
      "\n",
      "Column: Sección\n",
      "Sección\n",
      "1    65\n",
      "3     1\n",
      "Name: count, dtype: int64\n",
      "\n",
      "Column: IT/AT\n",
      "IT/AT\n",
      "1.0    60\n",
      "2.0     6\n",
      "Name: count, dtype: int64\n",
      "\n",
      "Column: Horas contratadas\n",
      "Horas contratadas\n",
      "2.0    38\n",
      "1.0    21\n",
      "3.0     3\n",
      "7.0     2\n",
      "6.0     1\n",
      "9.0     1\n",
      "Name: count, dtype: int64\n",
      "\n",
      "Column: TIPO DE BAJA\n",
      "TIPO DE BAJA\n",
      "2.0    53\n",
      "3.0     7\n",
      "1.0     5\n",
      "4.0     1\n",
      "Name: count, dtype: int64\n",
      "\n",
      "Column: Evaluación\n",
      "Evaluación\n",
      "1.0     49\n",
      "3.0     10\n",
      "6.0      2\n",
      "4.0      2\n",
      "2.0      2\n",
      "11.0     1\n",
      "Name: count, dtype: int64\n",
      "\n",
      "Column: Supervisor/a\n",
      "Supervisor/a\n",
      "2.0     13\n",
      "3.0     10\n",
      "9.0     10\n",
      "7.0     10\n",
      "8.0      5\n",
      "15.0     3\n",
      "4.0      2\n",
      "1.0      2\n",
      "13.0     2\n",
      "5.0      2\n",
      "17.0     2\n",
      "10.0     2\n",
      "14.0     1\n",
      "16.0     1\n",
      "18.0     1\n",
      "Name: count, dtype: int64\n",
      "\n",
      "Column: CATEGORIA\n",
      "CATEGORIA\n",
      "1.0    63\n",
      "2.0     2\n",
      "7.0     1\n",
      "Name: count, dtype: int64\n",
      "\n",
      "Column: SECCIÓN\n",
      "SECCIÓN\n",
      "3.0    65\n",
      "4.0     1\n",
      "Name: count, dtype: int64\n",
      "\n",
      "Column: TIENDA/SECCION INICIAL\n",
      "TIENDA/SECCION INICIAL\n",
      "37.0    8\n",
      "67.0    5\n",
      "45.0    4\n",
      "56.0    4\n",
      "51.0    4\n",
      "62.0    4\n",
      "42.0    4\n",
      "40.0    3\n",
      "49.0    3\n",
      "64.0    3\n",
      "38.0    3\n",
      "55.0    2\n",
      "61.0    2\n",
      "66.0    2\n",
      "60.0    2\n",
      "59.0    2\n",
      "50.0    1\n",
      "52.0    1\n",
      "48.0    1\n",
      "43.0    1\n",
      "53.0    1\n",
      "57.0    1\n",
      "46.0    1\n",
      "70.0    1\n",
      "65.0    1\n",
      "39.0    1\n",
      "44.0    1\n",
      "Name: count, dtype: int64\n",
      "\n",
      "Column: SECCIÓN2\n",
      "SECCIÓN2\n",
      "1.0    50\n",
      "2.0    16\n",
      "Name: count, dtype: int64\n",
      "\n",
      "Column: TIENDA/SECCION FINAL2\n",
      "TIENDA/SECCION FINAL2\n",
      "1.0     50\n",
      "6.0      3\n",
      "12.0     2\n",
      "7.0      1\n",
      "5.0      1\n",
      "21.0     1\n",
      "17.0     1\n",
      "32.0     1\n",
      "25.0     1\n",
      "9.0      1\n",
      "27.0     1\n",
      "24.0     1\n",
      "13.0     1\n",
      "10.0     1\n",
      "Name: count, dtype: int64\n",
      "\n",
      "Column: QUIEN CAUSO BAJA?\n",
      "QUIEN CAUSO BAJA?\n",
      "1.0    50\n",
      "2.0    14\n",
      "3.0     2\n",
      "Name: count, dtype: int64\n",
      "\n",
      "Column: FECHA BAJA CATEGORY\n",
      "FECHA BAJA CATEGORY\n",
      "2.0    50\n",
      "1.0    16\n",
      "Name: count, dtype: int64\n",
      "\n",
      "Column: Nº DE DIAS CATEGORY\n",
      "Nº DE DIAS CATEGORY\n",
      "0.0    50\n",
      "3.0     5\n",
      "2.0     5\n",
      "4.0     3\n",
      "1.0     3\n",
      "Name: count, dtype: int64\n",
      "\n"
     ]
    }
   ],
   "source": [
    "value_counts_dict = {}\n",
    "for column in cluster_5_df.columns:\n",
    "    value_counts_dict[column] = cluster_5_df[column].value_counts()\n",
    "\n",
    "for column, value_counts in value_counts_dict.items():\n",
    "    print(f\"Column: {column}\")\n",
    "    print(value_counts)\n",
    "    print()"
   ]
  },
  {
   "cell_type": "code",
   "execution_count": 41,
   "id": "be0a675a",
   "metadata": {},
   "outputs": [
    {
     "name": "stdout",
     "output_type": "stream",
     "text": [
      "Column: HORAS DE CONTRATO\n",
      "HORAS DE CONTRATO\n",
      "2     30\n",
      "1     26\n",
      "8      1\n",
      "11     1\n",
      "3      1\n",
      "6      1\n",
      "Name: count, dtype: int64\n",
      "\n",
      "Column: Categoría\n",
      "Categoría\n",
      "3     49\n",
      "5      6\n",
      "4      3\n",
      "1      1\n",
      "12     1\n",
      "Name: count, dtype: int64\n",
      "\n",
      "Column: Número de hijos\n",
      "Número de hijos\n",
      "2    28\n",
      "7    21\n",
      "3     3\n",
      "1     3\n",
      "9     3\n",
      "8     2\n",
      "Name: count, dtype: int64\n",
      "\n",
      "Column: Sexo\n",
      "Sexo\n",
      "1    50\n",
      "2    10\n",
      "Name: count, dtype: int64\n",
      "\n",
      "Column: Supervisora/Coordinador\n",
      "Supervisora/Coordinador\n",
      "2     12\n",
      "6     10\n",
      "11     9\n",
      "17     7\n",
      "19     7\n",
      "25     4\n",
      "16     2\n",
      "18     2\n",
      "21     2\n",
      "23     2\n",
      "15     1\n",
      "26     1\n",
      "29     1\n",
      "Name: count, dtype: int64\n",
      "\n",
      "Column: Sección\n",
      "Sección\n",
      "1    60\n",
      "Name: count, dtype: int64\n",
      "\n",
      "Column: IT/AT\n",
      "IT/AT\n",
      "1.0    55\n",
      "2.0     4\n",
      "3.0     1\n",
      "Name: count, dtype: int64\n",
      "\n",
      "Column: Horas contratadas\n",
      "Horas contratadas\n",
      "1.0    35\n",
      "2.0    21\n",
      "4.0     1\n",
      "6.0     1\n",
      "7.0     1\n",
      "3.0     1\n",
      "Name: count, dtype: int64\n",
      "\n",
      "Column: TIPO DE BAJA\n",
      "TIPO DE BAJA\n",
      "2.0    41\n",
      "3.0    12\n",
      "1.0     6\n",
      "4.0     1\n",
      "Name: count, dtype: int64\n",
      "\n",
      "Column: Evaluación\n",
      "Evaluación\n",
      "1.0     40\n",
      "3.0     11\n",
      "4.0      3\n",
      "2.0      3\n",
      "11.0     1\n",
      "9.0      1\n",
      "8.0      1\n",
      "Name: count, dtype: int64\n",
      "\n",
      "Column: Supervisor/a\n",
      "Supervisor/a\n",
      "4.0     10\n",
      "2.0      9\n",
      "8.0      8\n",
      "3.0      7\n",
      "5.0      5\n",
      "7.0      5\n",
      "9.0      5\n",
      "15.0     3\n",
      "16.0     2\n",
      "12.0     2\n",
      "14.0     1\n",
      "13.0     1\n",
      "1.0      1\n",
      "6.0      1\n",
      "Name: count, dtype: int64\n",
      "\n",
      "Column: CATEGORIA\n",
      "CATEGORIA\n",
      "1.0    48\n",
      "7.0     8\n",
      "2.0     3\n",
      "5.0     1\n",
      "Name: count, dtype: int64\n",
      "\n",
      "Column: SECCIÓN\n",
      "SECCIÓN\n",
      "3.0    57\n",
      "4.0     3\n",
      "Name: count, dtype: int64\n",
      "\n",
      "Column: TIENDA/SECCION INICIAL\n",
      "TIENDA/SECCION INICIAL\n",
      "91.0    49\n",
      "99.0     2\n",
      "82.0     2\n",
      "75.0     1\n",
      "95.0     1\n",
      "74.0     1\n",
      "66.0     1\n",
      "64.0     1\n",
      "65.0     1\n",
      "81.0     1\n",
      "Name: count, dtype: int64\n",
      "\n",
      "Column: SECCIÓN2\n",
      "SECCIÓN2\n",
      "2.0    57\n",
      "4.0     3\n",
      "Name: count, dtype: int64\n",
      "\n",
      "Column: TIENDA/SECCION FINAL2\n",
      "TIENDA/SECCION FINAL2\n",
      "64.0    7\n",
      "58.0    4\n",
      "69.0    4\n",
      "68.0    3\n",
      "60.0    3\n",
      "80.0    3\n",
      "59.0    3\n",
      "63.0    3\n",
      "61.0    3\n",
      "74.0    3\n",
      "76.0    3\n",
      "83.0    2\n",
      "89.0    2\n",
      "67.0    2\n",
      "52.0    2\n",
      "70.0    2\n",
      "78.0    2\n",
      "71.0    2\n",
      "77.0    1\n",
      "75.0    1\n",
      "72.0    1\n",
      "62.0    1\n",
      "73.0    1\n",
      "54.0    1\n",
      "56.0    1\n",
      "Name: count, dtype: int64\n",
      "\n",
      "Column: QUIEN CAUSO BAJA?\n",
      "QUIEN CAUSO BAJA?\n",
      "2.0    44\n",
      "3.0    16\n",
      "Name: count, dtype: int64\n",
      "\n",
      "Column: FECHA BAJA CATEGORY\n",
      "FECHA BAJA CATEGORY\n",
      "1.0    60\n",
      "Name: count, dtype: int64\n",
      "\n",
      "Column: Nº DE DIAS CATEGORY\n",
      "Nº DE DIAS CATEGORY\n",
      "7.0    12\n",
      "8.0    11\n",
      "5.0     8\n",
      "3.0     8\n",
      "2.0     7\n",
      "6.0     6\n",
      "9.0     5\n",
      "4.0     3\n",
      "Name: count, dtype: int64\n",
      "\n"
     ]
    }
   ],
   "source": [
    "value_counts_dict = {}\n",
    "for column in cluster_6_df.columns:\n",
    "    value_counts_dict[column] = cluster_6_df[column].value_counts()\n",
    "\n",
    "for column, value_counts in value_counts_dict.items():\n",
    "    print(f\"Column: {column}\")\n",
    "    print(value_counts)\n",
    "    print()"
   ]
  },
  {
   "cell_type": "code",
   "execution_count": null,
   "id": "c4f4beb9",
   "metadata": {},
   "outputs": [],
   "source": []
  }
 ],
 "metadata": {
  "kernelspec": {
   "display_name": "ironhack",
   "language": "python",
   "name": "ironhack"
  },
  "language_info": {
   "codemirror_mode": {
    "name": "ipython",
    "version": 3
   },
   "file_extension": ".py",
   "mimetype": "text/x-python",
   "name": "python",
   "nbconvert_exporter": "python",
   "pygments_lexer": "ipython3",
   "version": "3.10.9"
  }
 },
 "nbformat": 4,
 "nbformat_minor": 5
}
